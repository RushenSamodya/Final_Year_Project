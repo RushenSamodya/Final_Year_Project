{
 "cells": [
  {
   "cell_type": "code",
   "execution_count": null,
   "id": "38d86fe6",
   "metadata": {},
   "outputs": [],
   "source": []
  },
  {
   "cell_type": "code",
   "execution_count": 1,
   "id": "c1447d98",
   "metadata": {},
   "outputs": [
    {
     "name": "stdout",
     "output_type": "stream",
     "text": [
      "Connection successful!\n"
     ]
    },
    {
     "name": "stderr",
     "output_type": "stream",
     "text": [
      "C:\\Users\\RushenSamodya\\AppData\\Local\\Temp\\ipykernel_26208\\1624947355.py:42: UserWarning: pandas only supports SQLAlchemy connectable (engine/connection) or database string URI or sqlite3 DBAPI2 connection. Other DBAPI2 objects are not tested. Please consider using SQLAlchemy.\n",
      "  df = pd.read_sql_query(\"SELECT station_id, station_name FROM gauging_station;\", connection)\n",
      "C:\\Users\\RushenSamodya\\AppData\\Local\\Temp\\ipykernel_26208\\1624947355.py:69: UserWarning: pandas only supports SQLAlchemy connectable (engine/connection) or database string URI or sqlite3 DBAPI2 connection. Other DBAPI2 objects are not tested. Please consider using SQLAlchemy.\n",
      "  df = pd.read_sql_query(query, connection)\n"
     ]
    },
    {
     "name": "stdout",
     "output_type": "stream",
     "text": [
      "Saved: labeled_data/nagalagam_street_station_1.csv\n"
     ]
    },
    {
     "name": "stderr",
     "output_type": "stream",
     "text": [
      "C:\\Users\\RushenSamodya\\AppData\\Local\\Temp\\ipykernel_26208\\1624947355.py:69: UserWarning: pandas only supports SQLAlchemy connectable (engine/connection) or database string URI or sqlite3 DBAPI2 connection. Other DBAPI2 objects are not tested. Please consider using SQLAlchemy.\n",
      "  df = pd.read_sql_query(query, connection)\n"
     ]
    },
    {
     "name": "stdout",
     "output_type": "stream",
     "text": [
      "Saved: labeled_data/hanwella_station_2.csv\n"
     ]
    },
    {
     "name": "stderr",
     "output_type": "stream",
     "text": [
      "C:\\Users\\RushenSamodya\\AppData\\Local\\Temp\\ipykernel_26208\\1624947355.py:69: UserWarning: pandas only supports SQLAlchemy connectable (engine/connection) or database string URI or sqlite3 DBAPI2 connection. Other DBAPI2 objects are not tested. Please consider using SQLAlchemy.\n",
      "  df = pd.read_sql_query(query, connection)\n"
     ]
    },
    {
     "name": "stdout",
     "output_type": "stream",
     "text": [
      "Saved: labeled_data/glencourse_station_3.csv\n"
     ]
    },
    {
     "name": "stderr",
     "output_type": "stream",
     "text": [
      "C:\\Users\\RushenSamodya\\AppData\\Local\\Temp\\ipykernel_26208\\1624947355.py:69: UserWarning: pandas only supports SQLAlchemy connectable (engine/connection) or database string URI or sqlite3 DBAPI2 connection. Other DBAPI2 objects are not tested. Please consider using SQLAlchemy.\n",
      "  df = pd.read_sql_query(query, connection)\n"
     ]
    },
    {
     "name": "stdout",
     "output_type": "stream",
     "text": [
      "Saved: labeled_data/kithulgala_station_4.csv\n"
     ]
    },
    {
     "name": "stderr",
     "output_type": "stream",
     "text": [
      "C:\\Users\\RushenSamodya\\AppData\\Local\\Temp\\ipykernel_26208\\1624947355.py:69: UserWarning: pandas only supports SQLAlchemy connectable (engine/connection) or database string URI or sqlite3 DBAPI2 connection. Other DBAPI2 objects are not tested. Please consider using SQLAlchemy.\n",
      "  df = pd.read_sql_query(query, connection)\n"
     ]
    },
    {
     "name": "stdout",
     "output_type": "stream",
     "text": [
      "Saved: labeled_data/holombuwa_station_5.csv\n"
     ]
    },
    {
     "name": "stderr",
     "output_type": "stream",
     "text": [
      "C:\\Users\\RushenSamodya\\AppData\\Local\\Temp\\ipykernel_26208\\1624947355.py:69: UserWarning: pandas only supports SQLAlchemy connectable (engine/connection) or database string URI or sqlite3 DBAPI2 connection. Other DBAPI2 objects are not tested. Please consider using SQLAlchemy.\n",
      "  df = pd.read_sql_query(query, connection)\n"
     ]
    },
    {
     "name": "stdout",
     "output_type": "stream",
     "text": [
      "Saved: labeled_data/deraniyagala_station_6.csv\n"
     ]
    },
    {
     "name": "stderr",
     "output_type": "stream",
     "text": [
      "C:\\Users\\RushenSamodya\\AppData\\Local\\Temp\\ipykernel_26208\\1624947355.py:69: UserWarning: pandas only supports SQLAlchemy connectable (engine/connection) or database string URI or sqlite3 DBAPI2 connection. Other DBAPI2 objects are not tested. Please consider using SQLAlchemy.\n",
      "  df = pd.read_sql_query(query, connection)\n"
     ]
    },
    {
     "name": "stdout",
     "output_type": "stream",
     "text": [
      "Saved: labeled_data/norwood_station_7.csv\n"
     ]
    },
    {
     "name": "stderr",
     "output_type": "stream",
     "text": [
      "C:\\Users\\RushenSamodya\\AppData\\Local\\Temp\\ipykernel_26208\\1624947355.py:69: UserWarning: pandas only supports SQLAlchemy connectable (engine/connection) or database string URI or sqlite3 DBAPI2 connection. Other DBAPI2 objects are not tested. Please consider using SQLAlchemy.\n",
      "  df = pd.read_sql_query(query, connection)\n"
     ]
    },
    {
     "name": "stdout",
     "output_type": "stream",
     "text": [
      "Saved: labeled_data/putupaula_station_8.csv\n"
     ]
    },
    {
     "name": "stderr",
     "output_type": "stream",
     "text": [
      "C:\\Users\\RushenSamodya\\AppData\\Local\\Temp\\ipykernel_26208\\1624947355.py:69: UserWarning: pandas only supports SQLAlchemy connectable (engine/connection) or database string URI or sqlite3 DBAPI2 connection. Other DBAPI2 objects are not tested. Please consider using SQLAlchemy.\n",
      "  df = pd.read_sql_query(query, connection)\n"
     ]
    },
    {
     "name": "stdout",
     "output_type": "stream",
     "text": [
      "Saved: labeled_data/ellagawa_station_9.csv\n"
     ]
    },
    {
     "name": "stderr",
     "output_type": "stream",
     "text": [
      "C:\\Users\\RushenSamodya\\AppData\\Local\\Temp\\ipykernel_26208\\1624947355.py:69: UserWarning: pandas only supports SQLAlchemy connectable (engine/connection) or database string URI or sqlite3 DBAPI2 connection. Other DBAPI2 objects are not tested. Please consider using SQLAlchemy.\n",
      "  df = pd.read_sql_query(query, connection)\n"
     ]
    },
    {
     "name": "stdout",
     "output_type": "stream",
     "text": [
      "Saved: labeled_data/rathnapura_station_10.csv\n"
     ]
    },
    {
     "name": "stderr",
     "output_type": "stream",
     "text": [
      "C:\\Users\\RushenSamodya\\AppData\\Local\\Temp\\ipykernel_26208\\1624947355.py:69: UserWarning: pandas only supports SQLAlchemy connectable (engine/connection) or database string URI or sqlite3 DBAPI2 connection. Other DBAPI2 objects are not tested. Please consider using SQLAlchemy.\n",
      "  df = pd.read_sql_query(query, connection)\n"
     ]
    },
    {
     "name": "stdout",
     "output_type": "stream",
     "text": [
      "Saved: labeled_data/magura_station_11.csv\n"
     ]
    },
    {
     "name": "stderr",
     "output_type": "stream",
     "text": [
      "C:\\Users\\RushenSamodya\\AppData\\Local\\Temp\\ipykernel_26208\\1624947355.py:69: UserWarning: pandas only supports SQLAlchemy connectable (engine/connection) or database string URI or sqlite3 DBAPI2 connection. Other DBAPI2 objects are not tested. Please consider using SQLAlchemy.\n",
      "  df = pd.read_sql_query(query, connection)\n"
     ]
    },
    {
     "name": "stdout",
     "output_type": "stream",
     "text": [
      "Saved: labeled_data/millakanda_station_12.csv\n"
     ]
    },
    {
     "name": "stderr",
     "output_type": "stream",
     "text": [
      "C:\\Users\\RushenSamodya\\AppData\\Local\\Temp\\ipykernel_26208\\1624947355.py:69: UserWarning: pandas only supports SQLAlchemy connectable (engine/connection) or database string URI or sqlite3 DBAPI2 connection. Other DBAPI2 objects are not tested. Please consider using SQLAlchemy.\n",
      "  df = pd.read_sql_query(query, connection)\n"
     ]
    },
    {
     "name": "stdout",
     "output_type": "stream",
     "text": [
      "Saved: labeled_data/baddegama_station_13.csv\n"
     ]
    },
    {
     "name": "stderr",
     "output_type": "stream",
     "text": [
      "C:\\Users\\RushenSamodya\\AppData\\Local\\Temp\\ipykernel_26208\\1624947355.py:69: UserWarning: pandas only supports SQLAlchemy connectable (engine/connection) or database string URI or sqlite3 DBAPI2 connection. Other DBAPI2 objects are not tested. Please consider using SQLAlchemy.\n",
      "  df = pd.read_sql_query(query, connection)\n"
     ]
    },
    {
     "name": "stdout",
     "output_type": "stream",
     "text": [
      "Saved: labeled_data/thawalama_station_14.csv\n"
     ]
    },
    {
     "name": "stderr",
     "output_type": "stream",
     "text": [
      "C:\\Users\\RushenSamodya\\AppData\\Local\\Temp\\ipykernel_26208\\1624947355.py:69: UserWarning: pandas only supports SQLAlchemy connectable (engine/connection) or database string URI or sqlite3 DBAPI2 connection. Other DBAPI2 objects are not tested. Please consider using SQLAlchemy.\n",
      "  df = pd.read_sql_query(query, connection)\n"
     ]
    },
    {
     "name": "stdout",
     "output_type": "stream",
     "text": [
      "Saved: labeled_data/thalgahagoda_station_15.csv\n"
     ]
    },
    {
     "name": "stderr",
     "output_type": "stream",
     "text": [
      "C:\\Users\\RushenSamodya\\AppData\\Local\\Temp\\ipykernel_26208\\1624947355.py:69: UserWarning: pandas only supports SQLAlchemy connectable (engine/connection) or database string URI or sqlite3 DBAPI2 connection. Other DBAPI2 objects are not tested. Please consider using SQLAlchemy.\n",
      "  df = pd.read_sql_query(query, connection)\n"
     ]
    },
    {
     "name": "stdout",
     "output_type": "stream",
     "text": [
      "Saved: labeled_data/panadugama_station_16.csv\n"
     ]
    },
    {
     "name": "stderr",
     "output_type": "stream",
     "text": [
      "C:\\Users\\RushenSamodya\\AppData\\Local\\Temp\\ipykernel_26208\\1624947355.py:69: UserWarning: pandas only supports SQLAlchemy connectable (engine/connection) or database string URI or sqlite3 DBAPI2 connection. Other DBAPI2 objects are not tested. Please consider using SQLAlchemy.\n",
      "  df = pd.read_sql_query(query, connection)\n"
     ]
    },
    {
     "name": "stdout",
     "output_type": "stream",
     "text": [
      "Saved: labeled_data/pitabeddara_station_17.csv\n"
     ]
    },
    {
     "name": "stderr",
     "output_type": "stream",
     "text": [
      "C:\\Users\\RushenSamodya\\AppData\\Local\\Temp\\ipykernel_26208\\1624947355.py:69: UserWarning: pandas only supports SQLAlchemy connectable (engine/connection) or database string URI or sqlite3 DBAPI2 connection. Other DBAPI2 objects are not tested. Please consider using SQLAlchemy.\n",
      "  df = pd.read_sql_query(query, connection)\n"
     ]
    },
    {
     "name": "stdout",
     "output_type": "stream",
     "text": [
      "Saved: labeled_data/urawa_station_18.csv\n"
     ]
    },
    {
     "name": "stderr",
     "output_type": "stream",
     "text": [
      "C:\\Users\\RushenSamodya\\AppData\\Local\\Temp\\ipykernel_26208\\1624947355.py:69: UserWarning: pandas only supports SQLAlchemy connectable (engine/connection) or database string URI or sqlite3 DBAPI2 connection. Other DBAPI2 objects are not tested. Please consider using SQLAlchemy.\n",
      "  df = pd.read_sql_query(query, connection)\n"
     ]
    },
    {
     "name": "stdout",
     "output_type": "stream",
     "text": [
      "Saved: labeled_data/moraketiya_station_19.csv\n"
     ]
    },
    {
     "name": "stderr",
     "output_type": "stream",
     "text": [
      "C:\\Users\\RushenSamodya\\AppData\\Local\\Temp\\ipykernel_26208\\1624947355.py:69: UserWarning: pandas only supports SQLAlchemy connectable (engine/connection) or database string URI or sqlite3 DBAPI2 connection. Other DBAPI2 objects are not tested. Please consider using SQLAlchemy.\n",
      "  df = pd.read_sql_query(query, connection)\n"
     ]
    },
    {
     "name": "stdout",
     "output_type": "stream",
     "text": [
      "Saved: labeled_data/thanamalwila_station_20.csv\n"
     ]
    },
    {
     "name": "stderr",
     "output_type": "stream",
     "text": [
      "C:\\Users\\RushenSamodya\\AppData\\Local\\Temp\\ipykernel_26208\\1624947355.py:69: UserWarning: pandas only supports SQLAlchemy connectable (engine/connection) or database string URI or sqlite3 DBAPI2 connection. Other DBAPI2 objects are not tested. Please consider using SQLAlchemy.\n",
      "  df = pd.read_sql_query(query, connection)\n"
     ]
    },
    {
     "name": "stdout",
     "output_type": "stream",
     "text": [
      "Saved: labeled_data/wellawaya_station_21.csv\n"
     ]
    },
    {
     "name": "stderr",
     "output_type": "stream",
     "text": [
      "C:\\Users\\RushenSamodya\\AppData\\Local\\Temp\\ipykernel_26208\\1624947355.py:69: UserWarning: pandas only supports SQLAlchemy connectable (engine/connection) or database string URI or sqlite3 DBAPI2 connection. Other DBAPI2 objects are not tested. Please consider using SQLAlchemy.\n",
      "  df = pd.read_sql_query(query, connection)\n"
     ]
    },
    {
     "name": "stdout",
     "output_type": "stream",
     "text": [
      "Saved: labeled_data/kuda_oya_station_22.csv\n"
     ]
    },
    {
     "name": "stderr",
     "output_type": "stream",
     "text": [
      "C:\\Users\\RushenSamodya\\AppData\\Local\\Temp\\ipykernel_26208\\1624947355.py:69: UserWarning: pandas only supports SQLAlchemy connectable (engine/connection) or database string URI or sqlite3 DBAPI2 connection. Other DBAPI2 objects are not tested. Please consider using SQLAlchemy.\n",
      "  df = pd.read_sql_query(query, connection)\n"
     ]
    },
    {
     "name": "stdout",
     "output_type": "stream",
     "text": [
      "Saved: labeled_data/katharagama_station_23.csv\n"
     ]
    },
    {
     "name": "stderr",
     "output_type": "stream",
     "text": [
      "C:\\Users\\RushenSamodya\\AppData\\Local\\Temp\\ipykernel_26208\\1624947355.py:69: UserWarning: pandas only supports SQLAlchemy connectable (engine/connection) or database string URI or sqlite3 DBAPI2 connection. Other DBAPI2 objects are not tested. Please consider using SQLAlchemy.\n",
      "  df = pd.read_sql_query(query, connection)\n"
     ]
    },
    {
     "name": "stdout",
     "output_type": "stream",
     "text": [
      "Saved: labeled_data/nakkala_station_24.csv\n"
     ]
    },
    {
     "name": "stderr",
     "output_type": "stream",
     "text": [
      "C:\\Users\\RushenSamodya\\AppData\\Local\\Temp\\ipykernel_26208\\1624947355.py:69: UserWarning: pandas only supports SQLAlchemy connectable (engine/connection) or database string URI or sqlite3 DBAPI2 connection. Other DBAPI2 objects are not tested. Please consider using SQLAlchemy.\n",
      "  df = pd.read_sql_query(query, connection)\n"
     ]
    },
    {
     "name": "stdout",
     "output_type": "stream",
     "text": [
      "Saved: labeled_data/siyambalanduwa_station_25.csv\n"
     ]
    },
    {
     "name": "stderr",
     "output_type": "stream",
     "text": [
      "C:\\Users\\RushenSamodya\\AppData\\Local\\Temp\\ipykernel_26208\\1624947355.py:69: UserWarning: pandas only supports SQLAlchemy connectable (engine/connection) or database string URI or sqlite3 DBAPI2 connection. Other DBAPI2 objects are not tested. Please consider using SQLAlchemy.\n",
      "  df = pd.read_sql_query(query, connection)\n"
     ]
    },
    {
     "name": "stdout",
     "output_type": "stream",
     "text": [
      "Saved: labeled_data/padiyathalawa_station_26.csv\n"
     ]
    },
    {
     "name": "stderr",
     "output_type": "stream",
     "text": [
      "C:\\Users\\RushenSamodya\\AppData\\Local\\Temp\\ipykernel_26208\\1624947355.py:69: UserWarning: pandas only supports SQLAlchemy connectable (engine/connection) or database string URI or sqlite3 DBAPI2 connection. Other DBAPI2 objects are not tested. Please consider using SQLAlchemy.\n",
      "  df = pd.read_sql_query(query, connection)\n"
     ]
    },
    {
     "name": "stdout",
     "output_type": "stream",
     "text": [
      "Saved: labeled_data/manampitiya(hmis)_station_27.csv\n"
     ]
    },
    {
     "name": "stderr",
     "output_type": "stream",
     "text": [
      "C:\\Users\\RushenSamodya\\AppData\\Local\\Temp\\ipykernel_26208\\1624947355.py:69: UserWarning: pandas only supports SQLAlchemy connectable (engine/connection) or database string URI or sqlite3 DBAPI2 connection. Other DBAPI2 objects are not tested. Please consider using SQLAlchemy.\n",
      "  df = pd.read_sql_query(query, connection)\n"
     ]
    },
    {
     "name": "stdout",
     "output_type": "stream",
     "text": [
      "Saved: labeled_data/weraganthota_station_28.csv\n"
     ]
    },
    {
     "name": "stderr",
     "output_type": "stream",
     "text": [
      "C:\\Users\\RushenSamodya\\AppData\\Local\\Temp\\ipykernel_26208\\1624947355.py:69: UserWarning: pandas only supports SQLAlchemy connectable (engine/connection) or database string URI or sqlite3 DBAPI2 connection. Other DBAPI2 objects are not tested. Please consider using SQLAlchemy.\n",
      "  df = pd.read_sql_query(query, connection)\n"
     ]
    },
    {
     "name": "stdout",
     "output_type": "stream",
     "text": [
      "Saved: labeled_data/peradeniya_station_29.csv\n"
     ]
    },
    {
     "name": "stderr",
     "output_type": "stream",
     "text": [
      "C:\\Users\\RushenSamodya\\AppData\\Local\\Temp\\ipykernel_26208\\1624947355.py:69: UserWarning: pandas only supports SQLAlchemy connectable (engine/connection) or database string URI or sqlite3 DBAPI2 connection. Other DBAPI2 objects are not tested. Please consider using SQLAlchemy.\n",
      "  df = pd.read_sql_query(query, connection)\n"
     ]
    },
    {
     "name": "stdout",
     "output_type": "stream",
     "text": [
      "Saved: labeled_data/nawalapitiya_station_30.csv\n"
     ]
    },
    {
     "name": "stderr",
     "output_type": "stream",
     "text": [
      "C:\\Users\\RushenSamodya\\AppData\\Local\\Temp\\ipykernel_26208\\1624947355.py:69: UserWarning: pandas only supports SQLAlchemy connectable (engine/connection) or database string URI or sqlite3 DBAPI2 connection. Other DBAPI2 objects are not tested. Please consider using SQLAlchemy.\n",
      "  df = pd.read_sql_query(query, connection)\n"
     ]
    },
    {
     "name": "stdout",
     "output_type": "stream",
     "text": [
      "Saved: labeled_data/thaldena(hmis)_station_31.csv\n"
     ]
    },
    {
     "name": "stderr",
     "output_type": "stream",
     "text": [
      "C:\\Users\\RushenSamodya\\AppData\\Local\\Temp\\ipykernel_26208\\1624947355.py:69: UserWarning: pandas only supports SQLAlchemy connectable (engine/connection) or database string URI or sqlite3 DBAPI2 connection. Other DBAPI2 objects are not tested. Please consider using SQLAlchemy.\n",
      "  df = pd.read_sql_query(query, connection)\n"
     ]
    },
    {
     "name": "stdout",
     "output_type": "stream",
     "text": [
      "Saved: labeled_data/horowpothana_station_32.csv\n"
     ]
    },
    {
     "name": "stderr",
     "output_type": "stream",
     "text": [
      "C:\\Users\\RushenSamodya\\AppData\\Local\\Temp\\ipykernel_26208\\1624947355.py:69: UserWarning: pandas only supports SQLAlchemy connectable (engine/connection) or database string URI or sqlite3 DBAPI2 connection. Other DBAPI2 objects are not tested. Please consider using SQLAlchemy.\n",
      "  df = pd.read_sql_query(query, connection)\n"
     ]
    },
    {
     "name": "stdout",
     "output_type": "stream",
     "text": [
      "Saved: labeled_data/yakawewa_station_33.csv\n"
     ]
    },
    {
     "name": "stderr",
     "output_type": "stream",
     "text": [
      "C:\\Users\\RushenSamodya\\AppData\\Local\\Temp\\ipykernel_26208\\1624947355.py:69: UserWarning: pandas only supports SQLAlchemy connectable (engine/connection) or database string URI or sqlite3 DBAPI2 connection. Other DBAPI2 objects are not tested. Please consider using SQLAlchemy.\n",
      "  df = pd.read_sql_query(query, connection)\n"
     ]
    },
    {
     "name": "stdout",
     "output_type": "stream",
     "text": [
      "Saved: labeled_data/thanthirimale_station_34.csv\n"
     ]
    },
    {
     "name": "stderr",
     "output_type": "stream",
     "text": [
      "C:\\Users\\RushenSamodya\\AppData\\Local\\Temp\\ipykernel_26208\\1624947355.py:69: UserWarning: pandas only supports SQLAlchemy connectable (engine/connection) or database string URI or sqlite3 DBAPI2 connection. Other DBAPI2 objects are not tested. Please consider using SQLAlchemy.\n",
      "  df = pd.read_sql_query(query, connection)\n"
     ]
    },
    {
     "name": "stdout",
     "output_type": "stream",
     "text": [
      "Saved: labeled_data/galgamuwa_station_35.csv\n"
     ]
    },
    {
     "name": "stderr",
     "output_type": "stream",
     "text": [
      "C:\\Users\\RushenSamodya\\AppData\\Local\\Temp\\ipykernel_26208\\1624947355.py:69: UserWarning: pandas only supports SQLAlchemy connectable (engine/connection) or database string URI or sqlite3 DBAPI2 connection. Other DBAPI2 objects are not tested. Please consider using SQLAlchemy.\n",
      "  df = pd.read_sql_query(query, connection)\n"
     ]
    },
    {
     "name": "stdout",
     "output_type": "stream",
     "text": [
      "Saved: labeled_data/moragaswewa_station_36.csv\n"
     ]
    },
    {
     "name": "stderr",
     "output_type": "stream",
     "text": [
      "C:\\Users\\RushenSamodya\\AppData\\Local\\Temp\\ipykernel_26208\\1624947355.py:69: UserWarning: pandas only supports SQLAlchemy connectable (engine/connection) or database string URI or sqlite3 DBAPI2 connection. Other DBAPI2 objects are not tested. Please consider using SQLAlchemy.\n",
      "  df = pd.read_sql_query(query, connection)\n"
     ]
    },
    {
     "name": "stdout",
     "output_type": "stream",
     "text": [
      "Saved: labeled_data/badalgama_station_37.csv\n"
     ]
    },
    {
     "name": "stderr",
     "output_type": "stream",
     "text": [
      "C:\\Users\\RushenSamodya\\AppData\\Local\\Temp\\ipykernel_26208\\1624947355.py:69: UserWarning: pandas only supports SQLAlchemy connectable (engine/connection) or database string URI or sqlite3 DBAPI2 connection. Other DBAPI2 objects are not tested. Please consider using SQLAlchemy.\n",
      "  df = pd.read_sql_query(query, connection)\n"
     ]
    },
    {
     "name": "stdout",
     "output_type": "stream",
     "text": [
      "Saved: labeled_data/giriulla_station_38.csv\n"
     ]
    },
    {
     "name": "stderr",
     "output_type": "stream",
     "text": [
      "C:\\Users\\RushenSamodya\\AppData\\Local\\Temp\\ipykernel_26208\\1624947355.py:69: UserWarning: pandas only supports SQLAlchemy connectable (engine/connection) or database string URI or sqlite3 DBAPI2 connection. Other DBAPI2 objects are not tested. Please consider using SQLAlchemy.\n",
      "  df = pd.read_sql_query(query, connection)\n"
     ]
    },
    {
     "name": "stdout",
     "output_type": "stream",
     "text": [
      "Saved: labeled_data/dunamale_station_39.csv\n"
     ]
    },
    {
     "name": "stderr",
     "output_type": "stream",
     "text": [
      "C:\\Users\\RushenSamodya\\AppData\\Local\\Temp\\ipykernel_26208\\1624947355.py:69: UserWarning: pandas only supports SQLAlchemy connectable (engine/connection) or database string URI or sqlite3 DBAPI2 connection. Other DBAPI2 objects are not tested. Please consider using SQLAlchemy.\n",
      "  df = pd.read_sql_query(query, connection)\n"
     ]
    },
    {
     "name": "stdout",
     "output_type": "stream",
     "text": [
      "Saved: labeled_data/manampitiya(old)_station_40.csv\n"
     ]
    },
    {
     "name": "stderr",
     "output_type": "stream",
     "text": [
      "C:\\Users\\RushenSamodya\\AppData\\Local\\Temp\\ipykernel_26208\\1624947355.py:69: UserWarning: pandas only supports SQLAlchemy connectable (engine/connection) or database string URI or sqlite3 DBAPI2 connection. Other DBAPI2 objects are not tested. Please consider using SQLAlchemy.\n",
      "  df = pd.read_sql_query(query, connection)\n"
     ]
    },
    {
     "name": "stdout",
     "output_type": "stream",
     "text": [
      "No data found for station manampitiya(old_hmis) (ID: 41).\n",
      "All data processed. Connection closed.\n"
     ]
    }
   ],
   "source": [
    "import psycopg2\n",
    "from dotenv import load_dotenv\n",
    "import os\n",
    "import pandas as pd\n",
    "\n",
    "def connect_to_supabase():\n",
    "    try:\n",
    "        load_dotenv()\n",
    "        USER = os.getenv(\"user\")\n",
    "        PASSWORD = os.getenv(\"password\")\n",
    "        HOST = os.getenv(\"host\")\n",
    "        PORT = os.getenv(\"port\")\n",
    "        DBNAME = os.getenv(\"dbname\")\n",
    "\n",
    "        connection = psycopg2.connect(\n",
    "            user=USER,\n",
    "            password=PASSWORD,\n",
    "            host=HOST,\n",
    "            port=PORT,\n",
    "            dbname=DBNAME,\n",
    "            sslmode='require',\n",
    "            gssencmode='disable',\n",
    "        )\n",
    "        print(\"Connection successful!\")\n",
    "        return connection\n",
    "    except Exception as e:\n",
    "        print(f\"Failed to connect: {e}\")\n",
    "        return None\n",
    "\n",
    "def classify_flood(row):\n",
    "    if row['water_level'] >= row['major_flood_level']:\n",
    "        return 'Major Flood'\n",
    "    elif row['water_level'] >= row['minor_flood_level']:\n",
    "        return 'Minor Flood'\n",
    "    elif row['water_level'] >= row['alert_level']:\n",
    "        return 'Alert Level'\n",
    "    else:\n",
    "        return 'No Flood'\n",
    "\n",
    "def fetch_station_ids(connection):\n",
    "    try:\n",
    "        df = pd.read_sql_query(\"SELECT station_id, station_name FROM gauging_station;\", connection)\n",
    "        return df\n",
    "    except Exception as e:\n",
    "        print(f\"Failed to fetch station IDs: {e}\")\n",
    "        return pd.DataFrame()\n",
    "\n",
    "def fetch_and_save_data_per_station(connection, station_id, station_name):\n",
    "    try:\n",
    "        query = f\"\"\"\n",
    "            SELECT \n",
    "                w.recorded_at, \n",
    "                w.unit, \n",
    "                w.water_level, \n",
    "                g.alert_level, \n",
    "                g.minor_flood_level, \n",
    "                g.major_flood_level \n",
    "            FROM \n",
    "                water_level_measurement AS w \n",
    "            INNER JOIN \n",
    "                gauging_station AS g \n",
    "            ON \n",
    "                w.station_id = g.station_id \n",
    "            WHERE \n",
    "                g.station_id = {station_id}\n",
    "            ORDER BY \n",
    "                w.recorded_at DESC\n",
    "        \"\"\"\n",
    "        df = pd.read_sql_query(query, connection)\n",
    "        if df.empty:\n",
    "            print(f\"No data found for station {station_name} (ID: {station_id}).\")\n",
    "            return\n",
    "        df['flood_status'] = df.apply(classify_flood, axis=1)\n",
    "\n",
    "        # Make sure folder exists\n",
    "        os.makedirs(\"labeled_data\", exist_ok=True)\n",
    "\n",
    "        # Clean filename\n",
    "        safe_name = station_name.replace(\" \", \"_\").replace(\"/\", \"_\")\n",
    "        filename = f\"labeled_data/{safe_name}_station_{station_id}.csv\"\n",
    "        df.to_csv(filename, index=False)\n",
    "        print(f\"Saved: {filename}\")\n",
    "    except Exception as e:\n",
    "        print(f\"Failed to fetch/save for station ID {station_id}: {e}\")\n",
    "\n",
    "def main():\n",
    "    conn = connect_to_supabase()\n",
    "    if conn:\n",
    "        station_df = fetch_station_ids(conn)\n",
    "        if not station_df.empty:\n",
    "            for _, row in station_df.iterrows():\n",
    "                fetch_and_save_data_per_station(conn, row['station_id'], row['station_name'])\n",
    "        conn.close()\n",
    "        print(\"All data processed. Connection closed.\")\n",
    "\n",
    "main()\n"
   ]
  },
  {
   "cell_type": "code",
   "execution_count": 2,
   "id": "6cbd6c62",
   "metadata": {},
   "outputs": [
    {
     "name": "stdout",
     "output_type": "stream",
     "text": [
      "Connected to Supabase.\n"
     ]
    },
    {
     "name": "stderr",
     "output_type": "stream",
     "text": [
      "C:\\Users\\RushenSamodya\\AppData\\Local\\Temp\\ipykernel_26208\\3193724374.py:33: UserWarning: pandas only supports SQLAlchemy connectable (engine/connection) or database string URI or sqlite3 DBAPI2 connection. Other DBAPI2 objects are not tested. Please consider using SQLAlchemy.\n",
      "  return pd.read_sql_query(query, connection)\n",
      "C:\\Users\\RushenSamodya\\AppData\\Local\\Temp\\ipykernel_26208\\3193724374.py:41: UserWarning: pandas only supports SQLAlchemy connectable (engine/connection) or database string URI or sqlite3 DBAPI2 connection. Other DBAPI2 objects are not tested. Please consider using SQLAlchemy.\n",
      "  return pd.read_sql_query(query, connection)\n"
     ]
    },
    {
     "name": "stdout",
     "output_type": "stream",
     "text": [
      "Saved: labeled_data\\kelani_ganga\\nagalagam_street_station_1.csv\n"
     ]
    },
    {
     "name": "stderr",
     "output_type": "stream",
     "text": [
      "C:\\Users\\RushenSamodya\\AppData\\Local\\Temp\\ipykernel_26208\\3193724374.py:41: UserWarning: pandas only supports SQLAlchemy connectable (engine/connection) or database string URI or sqlite3 DBAPI2 connection. Other DBAPI2 objects are not tested. Please consider using SQLAlchemy.\n",
      "  return pd.read_sql_query(query, connection)\n"
     ]
    },
    {
     "name": "stdout",
     "output_type": "stream",
     "text": [
      "Saved: labeled_data\\kelani_ganga\\hanwella_station_2.csv\n"
     ]
    },
    {
     "name": "stderr",
     "output_type": "stream",
     "text": [
      "C:\\Users\\RushenSamodya\\AppData\\Local\\Temp\\ipykernel_26208\\3193724374.py:41: UserWarning: pandas only supports SQLAlchemy connectable (engine/connection) or database string URI or sqlite3 DBAPI2 connection. Other DBAPI2 objects are not tested. Please consider using SQLAlchemy.\n",
      "  return pd.read_sql_query(query, connection)\n"
     ]
    },
    {
     "name": "stdout",
     "output_type": "stream",
     "text": [
      "Saved: labeled_data\\kelani_ganga\\glencourse_station_3.csv\n"
     ]
    },
    {
     "name": "stderr",
     "output_type": "stream",
     "text": [
      "C:\\Users\\RushenSamodya\\AppData\\Local\\Temp\\ipykernel_26208\\3193724374.py:41: UserWarning: pandas only supports SQLAlchemy connectable (engine/connection) or database string URI or sqlite3 DBAPI2 connection. Other DBAPI2 objects are not tested. Please consider using SQLAlchemy.\n",
      "  return pd.read_sql_query(query, connection)\n"
     ]
    },
    {
     "name": "stdout",
     "output_type": "stream",
     "text": [
      "Saved: labeled_data\\kelani_ganga\\kithulgala_station_4.csv\n"
     ]
    },
    {
     "name": "stderr",
     "output_type": "stream",
     "text": [
      "C:\\Users\\RushenSamodya\\AppData\\Local\\Temp\\ipykernel_26208\\3193724374.py:41: UserWarning: pandas only supports SQLAlchemy connectable (engine/connection) or database string URI or sqlite3 DBAPI2 connection. Other DBAPI2 objects are not tested. Please consider using SQLAlchemy.\n",
      "  return pd.read_sql_query(query, connection)\n"
     ]
    },
    {
     "name": "stdout",
     "output_type": "stream",
     "text": [
      "Saved: labeled_data\\gurugoda_oya\\holombuwa_station_5.csv\n"
     ]
    },
    {
     "name": "stderr",
     "output_type": "stream",
     "text": [
      "C:\\Users\\RushenSamodya\\AppData\\Local\\Temp\\ipykernel_26208\\3193724374.py:41: UserWarning: pandas only supports SQLAlchemy connectable (engine/connection) or database string URI or sqlite3 DBAPI2 connection. Other DBAPI2 objects are not tested. Please consider using SQLAlchemy.\n",
      "  return pd.read_sql_query(query, connection)\n"
     ]
    },
    {
     "name": "stdout",
     "output_type": "stream",
     "text": [
      "Saved: labeled_data\\seethawaka_ganga\\deraniyagala_station_6.csv\n"
     ]
    },
    {
     "name": "stderr",
     "output_type": "stream",
     "text": [
      "C:\\Users\\RushenSamodya\\AppData\\Local\\Temp\\ipykernel_26208\\3193724374.py:41: UserWarning: pandas only supports SQLAlchemy connectable (engine/connection) or database string URI or sqlite3 DBAPI2 connection. Other DBAPI2 objects are not tested. Please consider using SQLAlchemy.\n",
      "  return pd.read_sql_query(query, connection)\n"
     ]
    },
    {
     "name": "stdout",
     "output_type": "stream",
     "text": [
      "Saved: labeled_data\\kehelgamu_oya\\norwood_station_7.csv\n"
     ]
    },
    {
     "name": "stderr",
     "output_type": "stream",
     "text": [
      "C:\\Users\\RushenSamodya\\AppData\\Local\\Temp\\ipykernel_26208\\3193724374.py:41: UserWarning: pandas only supports SQLAlchemy connectable (engine/connection) or database string URI or sqlite3 DBAPI2 connection. Other DBAPI2 objects are not tested. Please consider using SQLAlchemy.\n",
      "  return pd.read_sql_query(query, connection)\n"
     ]
    },
    {
     "name": "stdout",
     "output_type": "stream",
     "text": [
      "Saved: labeled_data\\kalu_ganga\\putupaula_station_8.csv\n"
     ]
    },
    {
     "name": "stderr",
     "output_type": "stream",
     "text": [
      "C:\\Users\\RushenSamodya\\AppData\\Local\\Temp\\ipykernel_26208\\3193724374.py:41: UserWarning: pandas only supports SQLAlchemy connectable (engine/connection) or database string URI or sqlite3 DBAPI2 connection. Other DBAPI2 objects are not tested. Please consider using SQLAlchemy.\n",
      "  return pd.read_sql_query(query, connection)\n"
     ]
    },
    {
     "name": "stdout",
     "output_type": "stream",
     "text": [
      "Saved: labeled_data\\kalu_ganga\\ellagawa_station_9.csv\n"
     ]
    },
    {
     "name": "stderr",
     "output_type": "stream",
     "text": [
      "C:\\Users\\RushenSamodya\\AppData\\Local\\Temp\\ipykernel_26208\\3193724374.py:41: UserWarning: pandas only supports SQLAlchemy connectable (engine/connection) or database string URI or sqlite3 DBAPI2 connection. Other DBAPI2 objects are not tested. Please consider using SQLAlchemy.\n",
      "  return pd.read_sql_query(query, connection)\n"
     ]
    },
    {
     "name": "stdout",
     "output_type": "stream",
     "text": [
      "Saved: labeled_data\\kalu_ganga\\rathnapura_station_10.csv\n"
     ]
    },
    {
     "name": "stderr",
     "output_type": "stream",
     "text": [
      "C:\\Users\\RushenSamodya\\AppData\\Local\\Temp\\ipykernel_26208\\3193724374.py:41: UserWarning: pandas only supports SQLAlchemy connectable (engine/connection) or database string URI or sqlite3 DBAPI2 connection. Other DBAPI2 objects are not tested. Please consider using SQLAlchemy.\n",
      "  return pd.read_sql_query(query, connection)\n"
     ]
    },
    {
     "name": "stdout",
     "output_type": "stream",
     "text": [
      "Saved: labeled_data\\maguru_ganga\\magura_station_11.csv\n"
     ]
    },
    {
     "name": "stderr",
     "output_type": "stream",
     "text": [
      "C:\\Users\\RushenSamodya\\AppData\\Local\\Temp\\ipykernel_26208\\3193724374.py:41: UserWarning: pandas only supports SQLAlchemy connectable (engine/connection) or database string URI or sqlite3 DBAPI2 connection. Other DBAPI2 objects are not tested. Please consider using SQLAlchemy.\n",
      "  return pd.read_sql_query(query, connection)\n"
     ]
    },
    {
     "name": "stdout",
     "output_type": "stream",
     "text": [
      "Saved: labeled_data\\kuda_ganga\\millakanda_station_12.csv\n"
     ]
    },
    {
     "name": "stderr",
     "output_type": "stream",
     "text": [
      "C:\\Users\\RushenSamodya\\AppData\\Local\\Temp\\ipykernel_26208\\3193724374.py:41: UserWarning: pandas only supports SQLAlchemy connectable (engine/connection) or database string URI or sqlite3 DBAPI2 connection. Other DBAPI2 objects are not tested. Please consider using SQLAlchemy.\n",
      "  return pd.read_sql_query(query, connection)\n"
     ]
    },
    {
     "name": "stdout",
     "output_type": "stream",
     "text": [
      "Saved: labeled_data\\gin_ganga\\baddegama_station_13.csv\n"
     ]
    },
    {
     "name": "stderr",
     "output_type": "stream",
     "text": [
      "C:\\Users\\RushenSamodya\\AppData\\Local\\Temp\\ipykernel_26208\\3193724374.py:41: UserWarning: pandas only supports SQLAlchemy connectable (engine/connection) or database string URI or sqlite3 DBAPI2 connection. Other DBAPI2 objects are not tested. Please consider using SQLAlchemy.\n",
      "  return pd.read_sql_query(query, connection)\n"
     ]
    },
    {
     "name": "stdout",
     "output_type": "stream",
     "text": [
      "Saved: labeled_data\\gin_ganga\\thawalama_station_14.csv\n"
     ]
    },
    {
     "name": "stderr",
     "output_type": "stream",
     "text": [
      "C:\\Users\\RushenSamodya\\AppData\\Local\\Temp\\ipykernel_26208\\3193724374.py:41: UserWarning: pandas only supports SQLAlchemy connectable (engine/connection) or database string URI or sqlite3 DBAPI2 connection. Other DBAPI2 objects are not tested. Please consider using SQLAlchemy.\n",
      "  return pd.read_sql_query(query, connection)\n"
     ]
    },
    {
     "name": "stdout",
     "output_type": "stream",
     "text": [
      "Saved: labeled_data\\nilwala_ganga\\thalgahagoda_station_15.csv\n"
     ]
    },
    {
     "name": "stderr",
     "output_type": "stream",
     "text": [
      "C:\\Users\\RushenSamodya\\AppData\\Local\\Temp\\ipykernel_26208\\3193724374.py:41: UserWarning: pandas only supports SQLAlchemy connectable (engine/connection) or database string URI or sqlite3 DBAPI2 connection. Other DBAPI2 objects are not tested. Please consider using SQLAlchemy.\n",
      "  return pd.read_sql_query(query, connection)\n"
     ]
    },
    {
     "name": "stdout",
     "output_type": "stream",
     "text": [
      "Saved: labeled_data\\nilwala_ganga\\panadugama_station_16.csv\n"
     ]
    },
    {
     "name": "stderr",
     "output_type": "stream",
     "text": [
      "C:\\Users\\RushenSamodya\\AppData\\Local\\Temp\\ipykernel_26208\\3193724374.py:41: UserWarning: pandas only supports SQLAlchemy connectable (engine/connection) or database string URI or sqlite3 DBAPI2 connection. Other DBAPI2 objects are not tested. Please consider using SQLAlchemy.\n",
      "  return pd.read_sql_query(query, connection)\n"
     ]
    },
    {
     "name": "stdout",
     "output_type": "stream",
     "text": [
      "Saved: labeled_data\\nilwala_ganga\\pitabeddara_station_17.csv\n"
     ]
    },
    {
     "name": "stderr",
     "output_type": "stream",
     "text": [
      "C:\\Users\\RushenSamodya\\AppData\\Local\\Temp\\ipykernel_26208\\3193724374.py:41: UserWarning: pandas only supports SQLAlchemy connectable (engine/connection) or database string URI or sqlite3 DBAPI2 connection. Other DBAPI2 objects are not tested. Please consider using SQLAlchemy.\n",
      "  return pd.read_sql_query(query, connection)\n"
     ]
    },
    {
     "name": "stdout",
     "output_type": "stream",
     "text": [
      "Saved: labeled_data\\urubokka_ganga\\urawa_station_18.csv\n"
     ]
    },
    {
     "name": "stderr",
     "output_type": "stream",
     "text": [
      "C:\\Users\\RushenSamodya\\AppData\\Local\\Temp\\ipykernel_26208\\3193724374.py:41: UserWarning: pandas only supports SQLAlchemy connectable (engine/connection) or database string URI or sqlite3 DBAPI2 connection. Other DBAPI2 objects are not tested. Please consider using SQLAlchemy.\n",
      "  return pd.read_sql_query(query, connection)\n"
     ]
    },
    {
     "name": "stdout",
     "output_type": "stream",
     "text": [
      "Saved: labeled_data\\walawe_ganga\\moraketiya_station_19.csv\n"
     ]
    },
    {
     "name": "stderr",
     "output_type": "stream",
     "text": [
      "C:\\Users\\RushenSamodya\\AppData\\Local\\Temp\\ipykernel_26208\\3193724374.py:41: UserWarning: pandas only supports SQLAlchemy connectable (engine/connection) or database string URI or sqlite3 DBAPI2 connection. Other DBAPI2 objects are not tested. Please consider using SQLAlchemy.\n",
      "  return pd.read_sql_query(query, connection)\n"
     ]
    },
    {
     "name": "stdout",
     "output_type": "stream",
     "text": [
      "Saved: labeled_data\\kirindi_oya\\thanamalwila_station_20.csv\n"
     ]
    },
    {
     "name": "stderr",
     "output_type": "stream",
     "text": [
      "C:\\Users\\RushenSamodya\\AppData\\Local\\Temp\\ipykernel_26208\\3193724374.py:41: UserWarning: pandas only supports SQLAlchemy connectable (engine/connection) or database string URI or sqlite3 DBAPI2 connection. Other DBAPI2 objects are not tested. Please consider using SQLAlchemy.\n",
      "  return pd.read_sql_query(query, connection)\n"
     ]
    },
    {
     "name": "stdout",
     "output_type": "stream",
     "text": [
      "Saved: labeled_data\\kirindi_oya\\wellawaya_station_21.csv\n"
     ]
    },
    {
     "name": "stderr",
     "output_type": "stream",
     "text": [
      "C:\\Users\\RushenSamodya\\AppData\\Local\\Temp\\ipykernel_26208\\3193724374.py:41: UserWarning: pandas only supports SQLAlchemy connectable (engine/connection) or database string URI or sqlite3 DBAPI2 connection. Other DBAPI2 objects are not tested. Please consider using SQLAlchemy.\n",
      "  return pd.read_sql_query(query, connection)\n"
     ]
    },
    {
     "name": "stdout",
     "output_type": "stream",
     "text": [
      "Saved: labeled_data\\kuda_oya\\kuda_oya_station_22.csv\n"
     ]
    },
    {
     "name": "stderr",
     "output_type": "stream",
     "text": [
      "C:\\Users\\RushenSamodya\\AppData\\Local\\Temp\\ipykernel_26208\\3193724374.py:41: UserWarning: pandas only supports SQLAlchemy connectable (engine/connection) or database string URI or sqlite3 DBAPI2 connection. Other DBAPI2 objects are not tested. Please consider using SQLAlchemy.\n",
      "  return pd.read_sql_query(query, connection)\n"
     ]
    },
    {
     "name": "stdout",
     "output_type": "stream",
     "text": [
      "Saved: labeled_data\\menik_ganga\\katharagama_station_23.csv\n"
     ]
    },
    {
     "name": "stderr",
     "output_type": "stream",
     "text": [
      "C:\\Users\\RushenSamodya\\AppData\\Local\\Temp\\ipykernel_26208\\3193724374.py:41: UserWarning: pandas only supports SQLAlchemy connectable (engine/connection) or database string URI or sqlite3 DBAPI2 connection. Other DBAPI2 objects are not tested. Please consider using SQLAlchemy.\n",
      "  return pd.read_sql_query(query, connection)\n"
     ]
    },
    {
     "name": "stdout",
     "output_type": "stream",
     "text": [
      "Saved: labeled_data\\kumbukkan_oya\\nakkala_station_24.csv\n"
     ]
    },
    {
     "name": "stderr",
     "output_type": "stream",
     "text": [
      "C:\\Users\\RushenSamodya\\AppData\\Local\\Temp\\ipykernel_26208\\3193724374.py:41: UserWarning: pandas only supports SQLAlchemy connectable (engine/connection) or database string URI or sqlite3 DBAPI2 connection. Other DBAPI2 objects are not tested. Please consider using SQLAlchemy.\n",
      "  return pd.read_sql_query(query, connection)\n"
     ]
    },
    {
     "name": "stdout",
     "output_type": "stream",
     "text": [
      "Saved: labeled_data\\heda_oya\\siyambalanduwa_station_25.csv\n"
     ]
    },
    {
     "name": "stderr",
     "output_type": "stream",
     "text": [
      "C:\\Users\\RushenSamodya\\AppData\\Local\\Temp\\ipykernel_26208\\3193724374.py:41: UserWarning: pandas only supports SQLAlchemy connectable (engine/connection) or database string URI or sqlite3 DBAPI2 connection. Other DBAPI2 objects are not tested. Please consider using SQLAlchemy.\n",
      "  return pd.read_sql_query(query, connection)\n"
     ]
    },
    {
     "name": "stdout",
     "output_type": "stream",
     "text": [
      "Saved: labeled_data\\maduru_oya\\padiyathalawa_station_26.csv\n"
     ]
    },
    {
     "name": "stderr",
     "output_type": "stream",
     "text": [
      "C:\\Users\\RushenSamodya\\AppData\\Local\\Temp\\ipykernel_26208\\3193724374.py:41: UserWarning: pandas only supports SQLAlchemy connectable (engine/connection) or database string URI or sqlite3 DBAPI2 connection. Other DBAPI2 objects are not tested. Please consider using SQLAlchemy.\n",
      "  return pd.read_sql_query(query, connection)\n"
     ]
    },
    {
     "name": "stdout",
     "output_type": "stream",
     "text": [
      "Saved: labeled_data\\mahaweli_ganga\\manampitiya(hmis)_station_27.csv\n"
     ]
    },
    {
     "name": "stderr",
     "output_type": "stream",
     "text": [
      "C:\\Users\\RushenSamodya\\AppData\\Local\\Temp\\ipykernel_26208\\3193724374.py:41: UserWarning: pandas only supports SQLAlchemy connectable (engine/connection) or database string URI or sqlite3 DBAPI2 connection. Other DBAPI2 objects are not tested. Please consider using SQLAlchemy.\n",
      "  return pd.read_sql_query(query, connection)\n"
     ]
    },
    {
     "name": "stdout",
     "output_type": "stream",
     "text": [
      "Saved: labeled_data\\mahaweli_ganga\\weraganthota_station_28.csv\n"
     ]
    },
    {
     "name": "stderr",
     "output_type": "stream",
     "text": [
      "C:\\Users\\RushenSamodya\\AppData\\Local\\Temp\\ipykernel_26208\\3193724374.py:41: UserWarning: pandas only supports SQLAlchemy connectable (engine/connection) or database string URI or sqlite3 DBAPI2 connection. Other DBAPI2 objects are not tested. Please consider using SQLAlchemy.\n",
      "  return pd.read_sql_query(query, connection)\n"
     ]
    },
    {
     "name": "stdout",
     "output_type": "stream",
     "text": [
      "Saved: labeled_data\\mahaweli_ganga\\peradeniya_station_29.csv\n"
     ]
    },
    {
     "name": "stderr",
     "output_type": "stream",
     "text": [
      "C:\\Users\\RushenSamodya\\AppData\\Local\\Temp\\ipykernel_26208\\3193724374.py:41: UserWarning: pandas only supports SQLAlchemy connectable (engine/connection) or database string URI or sqlite3 DBAPI2 connection. Other DBAPI2 objects are not tested. Please consider using SQLAlchemy.\n",
      "  return pd.read_sql_query(query, connection)\n"
     ]
    },
    {
     "name": "stdout",
     "output_type": "stream",
     "text": [
      "Saved: labeled_data\\mahaweli_ganga\\nawalapitiya_station_30.csv\n"
     ]
    },
    {
     "name": "stderr",
     "output_type": "stream",
     "text": [
      "C:\\Users\\RushenSamodya\\AppData\\Local\\Temp\\ipykernel_26208\\3193724374.py:41: UserWarning: pandas only supports SQLAlchemy connectable (engine/connection) or database string URI or sqlite3 DBAPI2 connection. Other DBAPI2 objects are not tested. Please consider using SQLAlchemy.\n",
      "  return pd.read_sql_query(query, connection)\n"
     ]
    },
    {
     "name": "stdout",
     "output_type": "stream",
     "text": [
      "Saved: labeled_data\\badulu_oya\\thaldena(hmis)_station_31.csv\n"
     ]
    },
    {
     "name": "stderr",
     "output_type": "stream",
     "text": [
      "C:\\Users\\RushenSamodya\\AppData\\Local\\Temp\\ipykernel_26208\\3193724374.py:41: UserWarning: pandas only supports SQLAlchemy connectable (engine/connection) or database string URI or sqlite3 DBAPI2 connection. Other DBAPI2 objects are not tested. Please consider using SQLAlchemy.\n",
      "  return pd.read_sql_query(query, connection)\n"
     ]
    },
    {
     "name": "stdout",
     "output_type": "stream",
     "text": [
      "Saved: labeled_data\\yan_oya\\horowpothana_station_32.csv\n"
     ]
    },
    {
     "name": "stderr",
     "output_type": "stream",
     "text": [
      "C:\\Users\\RushenSamodya\\AppData\\Local\\Temp\\ipykernel_26208\\3193724374.py:41: UserWarning: pandas only supports SQLAlchemy connectable (engine/connection) or database string URI or sqlite3 DBAPI2 connection. Other DBAPI2 objects are not tested. Please consider using SQLAlchemy.\n",
      "  return pd.read_sql_query(query, connection)\n"
     ]
    },
    {
     "name": "stdout",
     "output_type": "stream",
     "text": [
      "Saved: labeled_data\\mukunu_oya\\yakawewa_station_33.csv\n"
     ]
    },
    {
     "name": "stderr",
     "output_type": "stream",
     "text": [
      "C:\\Users\\RushenSamodya\\AppData\\Local\\Temp\\ipykernel_26208\\3193724374.py:41: UserWarning: pandas only supports SQLAlchemy connectable (engine/connection) or database string URI or sqlite3 DBAPI2 connection. Other DBAPI2 objects are not tested. Please consider using SQLAlchemy.\n",
      "  return pd.read_sql_query(query, connection)\n"
     ]
    },
    {
     "name": "stdout",
     "output_type": "stream",
     "text": [
      "Saved: labeled_data\\malwathu_oya\\thanthirimale_station_34.csv\n"
     ]
    },
    {
     "name": "stderr",
     "output_type": "stream",
     "text": [
      "C:\\Users\\RushenSamodya\\AppData\\Local\\Temp\\ipykernel_26208\\3193724374.py:41: UserWarning: pandas only supports SQLAlchemy connectable (engine/connection) or database string URI or sqlite3 DBAPI2 connection. Other DBAPI2 objects are not tested. Please consider using SQLAlchemy.\n",
      "  return pd.read_sql_query(query, connection)\n"
     ]
    },
    {
     "name": "stdout",
     "output_type": "stream",
     "text": [
      "Saved: labeled_data\\mee_oya\\galgamuwa_station_35.csv\n"
     ]
    },
    {
     "name": "stderr",
     "output_type": "stream",
     "text": [
      "C:\\Users\\RushenSamodya\\AppData\\Local\\Temp\\ipykernel_26208\\3193724374.py:41: UserWarning: pandas only supports SQLAlchemy connectable (engine/connection) or database string URI or sqlite3 DBAPI2 connection. Other DBAPI2 objects are not tested. Please consider using SQLAlchemy.\n",
      "  return pd.read_sql_query(query, connection)\n"
     ]
    },
    {
     "name": "stdout",
     "output_type": "stream",
     "text": [
      "Saved: labeled_data\\deduru_oya\\moragaswewa_station_36.csv\n"
     ]
    },
    {
     "name": "stderr",
     "output_type": "stream",
     "text": [
      "C:\\Users\\RushenSamodya\\AppData\\Local\\Temp\\ipykernel_26208\\3193724374.py:41: UserWarning: pandas only supports SQLAlchemy connectable (engine/connection) or database string URI or sqlite3 DBAPI2 connection. Other DBAPI2 objects are not tested. Please consider using SQLAlchemy.\n",
      "  return pd.read_sql_query(query, connection)\n"
     ]
    },
    {
     "name": "stdout",
     "output_type": "stream",
     "text": [
      "Saved: labeled_data\\maha_oya\\badalgama_station_37.csv\n"
     ]
    },
    {
     "name": "stderr",
     "output_type": "stream",
     "text": [
      "C:\\Users\\RushenSamodya\\AppData\\Local\\Temp\\ipykernel_26208\\3193724374.py:41: UserWarning: pandas only supports SQLAlchemy connectable (engine/connection) or database string URI or sqlite3 DBAPI2 connection. Other DBAPI2 objects are not tested. Please consider using SQLAlchemy.\n",
      "  return pd.read_sql_query(query, connection)\n"
     ]
    },
    {
     "name": "stdout",
     "output_type": "stream",
     "text": [
      "Saved: labeled_data\\maha_oya\\giriulla_station_38.csv\n"
     ]
    },
    {
     "name": "stderr",
     "output_type": "stream",
     "text": [
      "C:\\Users\\RushenSamodya\\AppData\\Local\\Temp\\ipykernel_26208\\3193724374.py:41: UserWarning: pandas only supports SQLAlchemy connectable (engine/connection) or database string URI or sqlite3 DBAPI2 connection. Other DBAPI2 objects are not tested. Please consider using SQLAlchemy.\n",
      "  return pd.read_sql_query(query, connection)\n"
     ]
    },
    {
     "name": "stdout",
     "output_type": "stream",
     "text": [
      "Saved: labeled_data\\attanagalu_oya\\dunamale_station_39.csv\n"
     ]
    },
    {
     "name": "stderr",
     "output_type": "stream",
     "text": [
      "C:\\Users\\RushenSamodya\\AppData\\Local\\Temp\\ipykernel_26208\\3193724374.py:41: UserWarning: pandas only supports SQLAlchemy connectable (engine/connection) or database string URI or sqlite3 DBAPI2 connection. Other DBAPI2 objects are not tested. Please consider using SQLAlchemy.\n",
      "  return pd.read_sql_query(query, connection)\n"
     ]
    },
    {
     "name": "stdout",
     "output_type": "stream",
     "text": [
      "Saved: labeled_data\\mahaweli_ganga\\manampitiya(old)_station_40.csv\n"
     ]
    },
    {
     "name": "stderr",
     "output_type": "stream",
     "text": [
      "C:\\Users\\RushenSamodya\\AppData\\Local\\Temp\\ipykernel_26208\\3193724374.py:41: UserWarning: pandas only supports SQLAlchemy connectable (engine/connection) or database string URI or sqlite3 DBAPI2 connection. Other DBAPI2 objects are not tested. Please consider using SQLAlchemy.\n",
      "  return pd.read_sql_query(query, connection)\n"
     ]
    },
    {
     "name": "stdout",
     "output_type": "stream",
     "text": [
      "No data for station 41\n"
     ]
    }
   ],
   "source": [
    "import psycopg2\n",
    "from dotenv import load_dotenv\n",
    "import os\n",
    "import pandas as pd\n",
    "\n",
    "# Load environment variables\n",
    "load_dotenv()\n",
    "\n",
    "def connect_to_supabase():\n",
    "    try:\n",
    "        connection = psycopg2.connect(\n",
    "            user=os.getenv(\"user\"),\n",
    "            password=os.getenv(\"password\"),\n",
    "            host=os.getenv(\"host\"),\n",
    "            port=os.getenv(\"port\"),\n",
    "            dbname=os.getenv(\"dbname\"),\n",
    "            sslmode='require',\n",
    "            gssencmode='disable',\n",
    "        )\n",
    "        print(\"Connected to Supabase.\")\n",
    "        return connection\n",
    "    except Exception as e:\n",
    "        print(\"Connection failed:\", e)\n",
    "        return None\n",
    "\n",
    "def get_all_stations(connection):\n",
    "    query = \"\"\"\n",
    "        SELECT g.station_id, g.station_name, t.tributary_or_river_name, \n",
    "               g.alert_level, g.minor_flood_level, g.major_flood_level\n",
    "        FROM gauging_station g\n",
    "        INNER JOIN tributary_or_river t ON g.tributary_or_river_id = t.tributary_or_river_id\n",
    "    \"\"\"\n",
    "    return pd.read_sql_query(query, connection)\n",
    "\n",
    "def fetch_station_data(connection, station_id):\n",
    "    query = f\"\"\"\n",
    "        SELECT recorded_at, unit, water_level\n",
    "        FROM water_level_measurement\n",
    "        WHERE station_id = {station_id}\n",
    "    \"\"\"\n",
    "    return pd.read_sql_query(query, connection)\n",
    "\n",
    "def label_flood_status(water_level, alert, minor, major):\n",
    "    if water_level >= major:\n",
    "        return \"Major Flood\"\n",
    "    elif water_level >= minor:\n",
    "        return \"Minor Flood\"\n",
    "    elif water_level >= alert:\n",
    "        return \"Alert Level\"\n",
    "    else:\n",
    "        return \"No Flood\"\n",
    "\n",
    "def generate_labeled_dataset(connection, stations_df):\n",
    "    base_dir = \"labeled_data\"\n",
    "    os.makedirs(base_dir, exist_ok=True)\n",
    "\n",
    "    for _, row in stations_df.iterrows():\n",
    "        station_id = row[\"station_id\"]\n",
    "        station_name = row[\"station_name\"].replace(\" \", \"_\")\n",
    "        river_name = row[\"tributary_or_river_name\"].replace(\" \", \"_\")\n",
    "        alert = row[\"alert_level\"]\n",
    "        minor = row[\"minor_flood_level\"]\n",
    "        major = row[\"major_flood_level\"]\n",
    "\n",
    "        # Fetch water level data\n",
    "        df = fetch_station_data(connection, station_id)\n",
    "        if df.empty:\n",
    "            print(f\"No data for station {station_id}\")\n",
    "            continue\n",
    "\n",
    "        # Label the data\n",
    "        df[\"flood_status\"] = df[\"water_level\"].apply(\n",
    "            lambda x: label_flood_status(x, alert, minor, major)\n",
    "        )\n",
    "\n",
    "        # Create directory for the river\n",
    "        river_dir = os.path.join(base_dir, river_name)\n",
    "        os.makedirs(river_dir, exist_ok=True)\n",
    "\n",
    "        # Save CSV\n",
    "        csv_path = os.path.join(river_dir, f\"{station_name}_station_{station_id}.csv\")\n",
    "        df.to_csv(csv_path, index=False)\n",
    "        print(f\"Saved: {csv_path}\")\n",
    "\n",
    "# Main flow\n",
    "connection = connect_to_supabase()\n",
    "if connection:\n",
    "    stations_df = get_all_stations(connection)\n",
    "    generate_labeled_dataset(connection, stations_df)\n",
    "    connection.close()\n"
   ]
  },
  {
   "cell_type": "markdown",
   "id": "02791554",
   "metadata": {},
   "source": [
    "1. Get rainfall data from the rainfall_measurement table\n",
    "2. Label it based on whether there was a major flood, minor flood, or no flood on that day\n",
    "3. Save the labeled dataset under labeled_data/rainfall_data/station_name/"
   ]
  },
  {
   "cell_type": "code",
   "execution_count": 8,
   "id": "30754a95",
   "metadata": {},
   "outputs": [
    {
     "name": "stdout",
     "output_type": "stream",
     "text": [
      "Connected to Supabase.\n"
     ]
    },
    {
     "name": "stderr",
     "output_type": "stream",
     "text": [
      "C:\\Users\\RushenSamodya\\AppData\\Local\\Temp\\ipykernel_26208\\1517991803.py:34: UserWarning: pandas only supports SQLAlchemy connectable (engine/connection) or database string URI or sqlite3 DBAPI2 connection. Other DBAPI2 objects are not tested. Please consider using SQLAlchemy.\n",
      "  return pd.read_sql_query(query, connection)\n",
      "C:\\Users\\RushenSamodya\\AppData\\Local\\Temp\\ipykernel_26208\\1517991803.py:43: UserWarning: pandas only supports SQLAlchemy connectable (engine/connection) or database string URI or sqlite3 DBAPI2 connection. Other DBAPI2 objects are not tested. Please consider using SQLAlchemy.\n",
      "  return pd.read_sql_query(query, connection)\n",
      "C:\\Users\\RushenSamodya\\AppData\\Local\\Temp\\ipykernel_26208\\1517991803.py:52: UserWarning: pandas only supports SQLAlchemy connectable (engine/connection) or database string URI or sqlite3 DBAPI2 connection. Other DBAPI2 objects are not tested. Please consider using SQLAlchemy.\n",
      "  return pd.read_sql_query(query, connection)\n"
     ]
    },
    {
     "name": "stdout",
     "output_type": "stream",
     "text": [
      "Saved: labeled_data/rainfall_data\\attanagalu_oya\\dunamale_rainfall_data.csv\n"
     ]
    },
    {
     "name": "stderr",
     "output_type": "stream",
     "text": [
      "C:\\Users\\RushenSamodya\\AppData\\Local\\Temp\\ipykernel_26208\\1517991803.py:43: UserWarning: pandas only supports SQLAlchemy connectable (engine/connection) or database string URI or sqlite3 DBAPI2 connection. Other DBAPI2 objects are not tested. Please consider using SQLAlchemy.\n",
      "  return pd.read_sql_query(query, connection)\n",
      "C:\\Users\\RushenSamodya\\AppData\\Local\\Temp\\ipykernel_26208\\1517991803.py:52: UserWarning: pandas only supports SQLAlchemy connectable (engine/connection) or database string URI or sqlite3 DBAPI2 connection. Other DBAPI2 objects are not tested. Please consider using SQLAlchemy.\n",
      "  return pd.read_sql_query(query, connection)\n"
     ]
    },
    {
     "name": "stdout",
     "output_type": "stream",
     "text": [
      "Saved: labeled_data/rainfall_data\\badulu_oya\\thaldena(hmis)_rainfall_data.csv\n"
     ]
    },
    {
     "name": "stderr",
     "output_type": "stream",
     "text": [
      "C:\\Users\\RushenSamodya\\AppData\\Local\\Temp\\ipykernel_26208\\1517991803.py:43: UserWarning: pandas only supports SQLAlchemy connectable (engine/connection) or database string URI or sqlite3 DBAPI2 connection. Other DBAPI2 objects are not tested. Please consider using SQLAlchemy.\n",
      "  return pd.read_sql_query(query, connection)\n",
      "C:\\Users\\RushenSamodya\\AppData\\Local\\Temp\\ipykernel_26208\\1517991803.py:52: UserWarning: pandas only supports SQLAlchemy connectable (engine/connection) or database string URI or sqlite3 DBAPI2 connection. Other DBAPI2 objects are not tested. Please consider using SQLAlchemy.\n",
      "  return pd.read_sql_query(query, connection)\n"
     ]
    },
    {
     "name": "stdout",
     "output_type": "stream",
     "text": [
      "Saved: labeled_data/rainfall_data\\deduru_oya\\moragaswewa_rainfall_data.csv\n"
     ]
    },
    {
     "name": "stderr",
     "output_type": "stream",
     "text": [
      "C:\\Users\\RushenSamodya\\AppData\\Local\\Temp\\ipykernel_26208\\1517991803.py:43: UserWarning: pandas only supports SQLAlchemy connectable (engine/connection) or database string URI or sqlite3 DBAPI2 connection. Other DBAPI2 objects are not tested. Please consider using SQLAlchemy.\n",
      "  return pd.read_sql_query(query, connection)\n",
      "C:\\Users\\RushenSamodya\\AppData\\Local\\Temp\\ipykernel_26208\\1517991803.py:52: UserWarning: pandas only supports SQLAlchemy connectable (engine/connection) or database string URI or sqlite3 DBAPI2 connection. Other DBAPI2 objects are not tested. Please consider using SQLAlchemy.\n",
      "  return pd.read_sql_query(query, connection)\n"
     ]
    },
    {
     "name": "stdout",
     "output_type": "stream",
     "text": [
      "Saved: labeled_data/rainfall_data\\gin_ganga\\baddegama_rainfall_data.csv\n"
     ]
    },
    {
     "name": "stderr",
     "output_type": "stream",
     "text": [
      "C:\\Users\\RushenSamodya\\AppData\\Local\\Temp\\ipykernel_26208\\1517991803.py:43: UserWarning: pandas only supports SQLAlchemy connectable (engine/connection) or database string URI or sqlite3 DBAPI2 connection. Other DBAPI2 objects are not tested. Please consider using SQLAlchemy.\n",
      "  return pd.read_sql_query(query, connection)\n",
      "C:\\Users\\RushenSamodya\\AppData\\Local\\Temp\\ipykernel_26208\\1517991803.py:52: UserWarning: pandas only supports SQLAlchemy connectable (engine/connection) or database string URI or sqlite3 DBAPI2 connection. Other DBAPI2 objects are not tested. Please consider using SQLAlchemy.\n",
      "  return pd.read_sql_query(query, connection)\n"
     ]
    },
    {
     "name": "stdout",
     "output_type": "stream",
     "text": [
      "Saved: labeled_data/rainfall_data\\gin_ganga\\thawalama_rainfall_data.csv\n"
     ]
    },
    {
     "name": "stderr",
     "output_type": "stream",
     "text": [
      "C:\\Users\\RushenSamodya\\AppData\\Local\\Temp\\ipykernel_26208\\1517991803.py:43: UserWarning: pandas only supports SQLAlchemy connectable (engine/connection) or database string URI or sqlite3 DBAPI2 connection. Other DBAPI2 objects are not tested. Please consider using SQLAlchemy.\n",
      "  return pd.read_sql_query(query, connection)\n",
      "C:\\Users\\RushenSamodya\\AppData\\Local\\Temp\\ipykernel_26208\\1517991803.py:52: UserWarning: pandas only supports SQLAlchemy connectable (engine/connection) or database string URI or sqlite3 DBAPI2 connection. Other DBAPI2 objects are not tested. Please consider using SQLAlchemy.\n",
      "  return pd.read_sql_query(query, connection)\n"
     ]
    },
    {
     "name": "stdout",
     "output_type": "stream",
     "text": [
      "Saved: labeled_data/rainfall_data\\gurugoda_oya\\holombuwa_rainfall_data.csv\n"
     ]
    },
    {
     "name": "stderr",
     "output_type": "stream",
     "text": [
      "C:\\Users\\RushenSamodya\\AppData\\Local\\Temp\\ipykernel_26208\\1517991803.py:43: UserWarning: pandas only supports SQLAlchemy connectable (engine/connection) or database string URI or sqlite3 DBAPI2 connection. Other DBAPI2 objects are not tested. Please consider using SQLAlchemy.\n",
      "  return pd.read_sql_query(query, connection)\n",
      "C:\\Users\\RushenSamodya\\AppData\\Local\\Temp\\ipykernel_26208\\1517991803.py:52: UserWarning: pandas only supports SQLAlchemy connectable (engine/connection) or database string URI or sqlite3 DBAPI2 connection. Other DBAPI2 objects are not tested. Please consider using SQLAlchemy.\n",
      "  return pd.read_sql_query(query, connection)\n"
     ]
    },
    {
     "name": "stdout",
     "output_type": "stream",
     "text": [
      "Saved: labeled_data/rainfall_data\\heda_oya\\siyambalanduwa_rainfall_data.csv\n"
     ]
    },
    {
     "name": "stderr",
     "output_type": "stream",
     "text": [
      "C:\\Users\\RushenSamodya\\AppData\\Local\\Temp\\ipykernel_26208\\1517991803.py:43: UserWarning: pandas only supports SQLAlchemy connectable (engine/connection) or database string URI or sqlite3 DBAPI2 connection. Other DBAPI2 objects are not tested. Please consider using SQLAlchemy.\n",
      "  return pd.read_sql_query(query, connection)\n",
      "C:\\Users\\RushenSamodya\\AppData\\Local\\Temp\\ipykernel_26208\\1517991803.py:52: UserWarning: pandas only supports SQLAlchemy connectable (engine/connection) or database string URI or sqlite3 DBAPI2 connection. Other DBAPI2 objects are not tested. Please consider using SQLAlchemy.\n",
      "  return pd.read_sql_query(query, connection)\n"
     ]
    },
    {
     "name": "stdout",
     "output_type": "stream",
     "text": [
      "Saved: labeled_data/rainfall_data\\kalu_ganga\\putupaula_rainfall_data.csv\n"
     ]
    },
    {
     "name": "stderr",
     "output_type": "stream",
     "text": [
      "C:\\Users\\RushenSamodya\\AppData\\Local\\Temp\\ipykernel_26208\\1517991803.py:43: UserWarning: pandas only supports SQLAlchemy connectable (engine/connection) or database string URI or sqlite3 DBAPI2 connection. Other DBAPI2 objects are not tested. Please consider using SQLAlchemy.\n",
      "  return pd.read_sql_query(query, connection)\n",
      "C:\\Users\\RushenSamodya\\AppData\\Local\\Temp\\ipykernel_26208\\1517991803.py:52: UserWarning: pandas only supports SQLAlchemy connectable (engine/connection) or database string URI or sqlite3 DBAPI2 connection. Other DBAPI2 objects are not tested. Please consider using SQLAlchemy.\n",
      "  return pd.read_sql_query(query, connection)\n"
     ]
    },
    {
     "name": "stdout",
     "output_type": "stream",
     "text": [
      "Saved: labeled_data/rainfall_data\\kalu_ganga\\ellagawa_rainfall_data.csv\n"
     ]
    },
    {
     "name": "stderr",
     "output_type": "stream",
     "text": [
      "C:\\Users\\RushenSamodya\\AppData\\Local\\Temp\\ipykernel_26208\\1517991803.py:43: UserWarning: pandas only supports SQLAlchemy connectable (engine/connection) or database string URI or sqlite3 DBAPI2 connection. Other DBAPI2 objects are not tested. Please consider using SQLAlchemy.\n",
      "  return pd.read_sql_query(query, connection)\n",
      "C:\\Users\\RushenSamodya\\AppData\\Local\\Temp\\ipykernel_26208\\1517991803.py:52: UserWarning: pandas only supports SQLAlchemy connectable (engine/connection) or database string URI or sqlite3 DBAPI2 connection. Other DBAPI2 objects are not tested. Please consider using SQLAlchemy.\n",
      "  return pd.read_sql_query(query, connection)\n"
     ]
    },
    {
     "name": "stdout",
     "output_type": "stream",
     "text": [
      "Saved: labeled_data/rainfall_data\\kalu_ganga\\rathnapura_rainfall_data.csv\n"
     ]
    },
    {
     "name": "stderr",
     "output_type": "stream",
     "text": [
      "C:\\Users\\RushenSamodya\\AppData\\Local\\Temp\\ipykernel_26208\\1517991803.py:43: UserWarning: pandas only supports SQLAlchemy connectable (engine/connection) or database string URI or sqlite3 DBAPI2 connection. Other DBAPI2 objects are not tested. Please consider using SQLAlchemy.\n",
      "  return pd.read_sql_query(query, connection)\n",
      "C:\\Users\\RushenSamodya\\AppData\\Local\\Temp\\ipykernel_26208\\1517991803.py:52: UserWarning: pandas only supports SQLAlchemy connectable (engine/connection) or database string URI or sqlite3 DBAPI2 connection. Other DBAPI2 objects are not tested. Please consider using SQLAlchemy.\n",
      "  return pd.read_sql_query(query, connection)\n"
     ]
    },
    {
     "name": "stdout",
     "output_type": "stream",
     "text": [
      "Saved: labeled_data/rainfall_data\\kehelgamu_oya\\norwood_rainfall_data.csv\n"
     ]
    },
    {
     "name": "stderr",
     "output_type": "stream",
     "text": [
      "C:\\Users\\RushenSamodya\\AppData\\Local\\Temp\\ipykernel_26208\\1517991803.py:43: UserWarning: pandas only supports SQLAlchemy connectable (engine/connection) or database string URI or sqlite3 DBAPI2 connection. Other DBAPI2 objects are not tested. Please consider using SQLAlchemy.\n",
      "  return pd.read_sql_query(query, connection)\n"
     ]
    },
    {
     "name": "stdout",
     "output_type": "stream",
     "text": [
      "No rainfall data for station 1 (nagalagam_street)\n"
     ]
    },
    {
     "name": "stderr",
     "output_type": "stream",
     "text": [
      "C:\\Users\\RushenSamodya\\AppData\\Local\\Temp\\ipykernel_26208\\1517991803.py:43: UserWarning: pandas only supports SQLAlchemy connectable (engine/connection) or database string URI or sqlite3 DBAPI2 connection. Other DBAPI2 objects are not tested. Please consider using SQLAlchemy.\n",
      "  return pd.read_sql_query(query, connection)\n",
      "C:\\Users\\RushenSamodya\\AppData\\Local\\Temp\\ipykernel_26208\\1517991803.py:52: UserWarning: pandas only supports SQLAlchemy connectable (engine/connection) or database string URI or sqlite3 DBAPI2 connection. Other DBAPI2 objects are not tested. Please consider using SQLAlchemy.\n",
      "  return pd.read_sql_query(query, connection)\n"
     ]
    },
    {
     "name": "stdout",
     "output_type": "stream",
     "text": [
      "Saved: labeled_data/rainfall_data\\kelani_ganga\\hanwella_rainfall_data.csv\n"
     ]
    },
    {
     "name": "stderr",
     "output_type": "stream",
     "text": [
      "C:\\Users\\RushenSamodya\\AppData\\Local\\Temp\\ipykernel_26208\\1517991803.py:43: UserWarning: pandas only supports SQLAlchemy connectable (engine/connection) or database string URI or sqlite3 DBAPI2 connection. Other DBAPI2 objects are not tested. Please consider using SQLAlchemy.\n",
      "  return pd.read_sql_query(query, connection)\n",
      "C:\\Users\\RushenSamodya\\AppData\\Local\\Temp\\ipykernel_26208\\1517991803.py:52: UserWarning: pandas only supports SQLAlchemy connectable (engine/connection) or database string URI or sqlite3 DBAPI2 connection. Other DBAPI2 objects are not tested. Please consider using SQLAlchemy.\n",
      "  return pd.read_sql_query(query, connection)\n"
     ]
    },
    {
     "name": "stdout",
     "output_type": "stream",
     "text": [
      "Saved: labeled_data/rainfall_data\\kelani_ganga\\glencourse_rainfall_data.csv\n"
     ]
    },
    {
     "name": "stderr",
     "output_type": "stream",
     "text": [
      "C:\\Users\\RushenSamodya\\AppData\\Local\\Temp\\ipykernel_26208\\1517991803.py:43: UserWarning: pandas only supports SQLAlchemy connectable (engine/connection) or database string URI or sqlite3 DBAPI2 connection. Other DBAPI2 objects are not tested. Please consider using SQLAlchemy.\n",
      "  return pd.read_sql_query(query, connection)\n",
      "C:\\Users\\RushenSamodya\\AppData\\Local\\Temp\\ipykernel_26208\\1517991803.py:52: UserWarning: pandas only supports SQLAlchemy connectable (engine/connection) or database string URI or sqlite3 DBAPI2 connection. Other DBAPI2 objects are not tested. Please consider using SQLAlchemy.\n",
      "  return pd.read_sql_query(query, connection)\n"
     ]
    },
    {
     "name": "stdout",
     "output_type": "stream",
     "text": [
      "Saved: labeled_data/rainfall_data\\kelani_ganga\\kithulgala_rainfall_data.csv\n"
     ]
    },
    {
     "name": "stderr",
     "output_type": "stream",
     "text": [
      "C:\\Users\\RushenSamodya\\AppData\\Local\\Temp\\ipykernel_26208\\1517991803.py:43: UserWarning: pandas only supports SQLAlchemy connectable (engine/connection) or database string URI or sqlite3 DBAPI2 connection. Other DBAPI2 objects are not tested. Please consider using SQLAlchemy.\n",
      "  return pd.read_sql_query(query, connection)\n",
      "C:\\Users\\RushenSamodya\\AppData\\Local\\Temp\\ipykernel_26208\\1517991803.py:52: UserWarning: pandas only supports SQLAlchemy connectable (engine/connection) or database string URI or sqlite3 DBAPI2 connection. Other DBAPI2 objects are not tested. Please consider using SQLAlchemy.\n",
      "  return pd.read_sql_query(query, connection)\n"
     ]
    },
    {
     "name": "stdout",
     "output_type": "stream",
     "text": [
      "Saved: labeled_data/rainfall_data\\kirindi_oya\\thanamalwila_rainfall_data.csv\n"
     ]
    },
    {
     "name": "stderr",
     "output_type": "stream",
     "text": [
      "C:\\Users\\RushenSamodya\\AppData\\Local\\Temp\\ipykernel_26208\\1517991803.py:43: UserWarning: pandas only supports SQLAlchemy connectable (engine/connection) or database string URI or sqlite3 DBAPI2 connection. Other DBAPI2 objects are not tested. Please consider using SQLAlchemy.\n",
      "  return pd.read_sql_query(query, connection)\n",
      "C:\\Users\\RushenSamodya\\AppData\\Local\\Temp\\ipykernel_26208\\1517991803.py:52: UserWarning: pandas only supports SQLAlchemy connectable (engine/connection) or database string URI or sqlite3 DBAPI2 connection. Other DBAPI2 objects are not tested. Please consider using SQLAlchemy.\n",
      "  return pd.read_sql_query(query, connection)\n"
     ]
    },
    {
     "name": "stdout",
     "output_type": "stream",
     "text": [
      "Saved: labeled_data/rainfall_data\\kirindi_oya\\wellawaya_rainfall_data.csv\n"
     ]
    },
    {
     "name": "stderr",
     "output_type": "stream",
     "text": [
      "C:\\Users\\RushenSamodya\\AppData\\Local\\Temp\\ipykernel_26208\\1517991803.py:43: UserWarning: pandas only supports SQLAlchemy connectable (engine/connection) or database string URI or sqlite3 DBAPI2 connection. Other DBAPI2 objects are not tested. Please consider using SQLAlchemy.\n",
      "  return pd.read_sql_query(query, connection)\n",
      "C:\\Users\\RushenSamodya\\AppData\\Local\\Temp\\ipykernel_26208\\1517991803.py:52: UserWarning: pandas only supports SQLAlchemy connectable (engine/connection) or database string URI or sqlite3 DBAPI2 connection. Other DBAPI2 objects are not tested. Please consider using SQLAlchemy.\n",
      "  return pd.read_sql_query(query, connection)\n"
     ]
    },
    {
     "name": "stdout",
     "output_type": "stream",
     "text": [
      "Saved: labeled_data/rainfall_data\\kuda_ganga\\millakanda_rainfall_data.csv\n"
     ]
    },
    {
     "name": "stderr",
     "output_type": "stream",
     "text": [
      "C:\\Users\\RushenSamodya\\AppData\\Local\\Temp\\ipykernel_26208\\1517991803.py:43: UserWarning: pandas only supports SQLAlchemy connectable (engine/connection) or database string URI or sqlite3 DBAPI2 connection. Other DBAPI2 objects are not tested. Please consider using SQLAlchemy.\n",
      "  return pd.read_sql_query(query, connection)\n",
      "C:\\Users\\RushenSamodya\\AppData\\Local\\Temp\\ipykernel_26208\\1517991803.py:52: UserWarning: pandas only supports SQLAlchemy connectable (engine/connection) or database string URI or sqlite3 DBAPI2 connection. Other DBAPI2 objects are not tested. Please consider using SQLAlchemy.\n",
      "  return pd.read_sql_query(query, connection)\n"
     ]
    },
    {
     "name": "stdout",
     "output_type": "stream",
     "text": [
      "Saved: labeled_data/rainfall_data\\kuda_oya\\kuda_oya_rainfall_data.csv\n"
     ]
    },
    {
     "name": "stderr",
     "output_type": "stream",
     "text": [
      "C:\\Users\\RushenSamodya\\AppData\\Local\\Temp\\ipykernel_26208\\1517991803.py:43: UserWarning: pandas only supports SQLAlchemy connectable (engine/connection) or database string URI or sqlite3 DBAPI2 connection. Other DBAPI2 objects are not tested. Please consider using SQLAlchemy.\n",
      "  return pd.read_sql_query(query, connection)\n",
      "C:\\Users\\RushenSamodya\\AppData\\Local\\Temp\\ipykernel_26208\\1517991803.py:52: UserWarning: pandas only supports SQLAlchemy connectable (engine/connection) or database string URI or sqlite3 DBAPI2 connection. Other DBAPI2 objects are not tested. Please consider using SQLAlchemy.\n",
      "  return pd.read_sql_query(query, connection)\n"
     ]
    },
    {
     "name": "stdout",
     "output_type": "stream",
     "text": [
      "Saved: labeled_data/rainfall_data\\kumbukkan_oya\\nakkala_rainfall_data.csv\n"
     ]
    },
    {
     "name": "stderr",
     "output_type": "stream",
     "text": [
      "C:\\Users\\RushenSamodya\\AppData\\Local\\Temp\\ipykernel_26208\\1517991803.py:43: UserWarning: pandas only supports SQLAlchemy connectable (engine/connection) or database string URI or sqlite3 DBAPI2 connection. Other DBAPI2 objects are not tested. Please consider using SQLAlchemy.\n",
      "  return pd.read_sql_query(query, connection)\n",
      "C:\\Users\\RushenSamodya\\AppData\\Local\\Temp\\ipykernel_26208\\1517991803.py:52: UserWarning: pandas only supports SQLAlchemy connectable (engine/connection) or database string URI or sqlite3 DBAPI2 connection. Other DBAPI2 objects are not tested. Please consider using SQLAlchemy.\n",
      "  return pd.read_sql_query(query, connection)\n"
     ]
    },
    {
     "name": "stdout",
     "output_type": "stream",
     "text": [
      "Saved: labeled_data/rainfall_data\\maduru_oya\\padiyathalawa_rainfall_data.csv\n"
     ]
    },
    {
     "name": "stderr",
     "output_type": "stream",
     "text": [
      "C:\\Users\\RushenSamodya\\AppData\\Local\\Temp\\ipykernel_26208\\1517991803.py:43: UserWarning: pandas only supports SQLAlchemy connectable (engine/connection) or database string URI or sqlite3 DBAPI2 connection. Other DBAPI2 objects are not tested. Please consider using SQLAlchemy.\n",
      "  return pd.read_sql_query(query, connection)\n",
      "C:\\Users\\RushenSamodya\\AppData\\Local\\Temp\\ipykernel_26208\\1517991803.py:52: UserWarning: pandas only supports SQLAlchemy connectable (engine/connection) or database string URI or sqlite3 DBAPI2 connection. Other DBAPI2 objects are not tested. Please consider using SQLAlchemy.\n",
      "  return pd.read_sql_query(query, connection)\n"
     ]
    },
    {
     "name": "stdout",
     "output_type": "stream",
     "text": [
      "Saved: labeled_data/rainfall_data\\maguru_ganga\\magura_rainfall_data.csv\n"
     ]
    },
    {
     "name": "stderr",
     "output_type": "stream",
     "text": [
      "C:\\Users\\RushenSamodya\\AppData\\Local\\Temp\\ipykernel_26208\\1517991803.py:43: UserWarning: pandas only supports SQLAlchemy connectable (engine/connection) or database string URI or sqlite3 DBAPI2 connection. Other DBAPI2 objects are not tested. Please consider using SQLAlchemy.\n",
      "  return pd.read_sql_query(query, connection)\n",
      "C:\\Users\\RushenSamodya\\AppData\\Local\\Temp\\ipykernel_26208\\1517991803.py:52: UserWarning: pandas only supports SQLAlchemy connectable (engine/connection) or database string URI or sqlite3 DBAPI2 connection. Other DBAPI2 objects are not tested. Please consider using SQLAlchemy.\n",
      "  return pd.read_sql_query(query, connection)\n"
     ]
    },
    {
     "name": "stdout",
     "output_type": "stream",
     "text": [
      "Saved: labeled_data/rainfall_data\\maha_oya\\badalgama_rainfall_data.csv\n"
     ]
    },
    {
     "name": "stderr",
     "output_type": "stream",
     "text": [
      "C:\\Users\\RushenSamodya\\AppData\\Local\\Temp\\ipykernel_26208\\1517991803.py:43: UserWarning: pandas only supports SQLAlchemy connectable (engine/connection) or database string URI or sqlite3 DBAPI2 connection. Other DBAPI2 objects are not tested. Please consider using SQLAlchemy.\n",
      "  return pd.read_sql_query(query, connection)\n",
      "C:\\Users\\RushenSamodya\\AppData\\Local\\Temp\\ipykernel_26208\\1517991803.py:52: UserWarning: pandas only supports SQLAlchemy connectable (engine/connection) or database string URI or sqlite3 DBAPI2 connection. Other DBAPI2 objects are not tested. Please consider using SQLAlchemy.\n",
      "  return pd.read_sql_query(query, connection)\n"
     ]
    },
    {
     "name": "stdout",
     "output_type": "stream",
     "text": [
      "Saved: labeled_data/rainfall_data\\maha_oya\\giriulla_rainfall_data.csv\n"
     ]
    },
    {
     "name": "stderr",
     "output_type": "stream",
     "text": [
      "C:\\Users\\RushenSamodya\\AppData\\Local\\Temp\\ipykernel_26208\\1517991803.py:43: UserWarning: pandas only supports SQLAlchemy connectable (engine/connection) or database string URI or sqlite3 DBAPI2 connection. Other DBAPI2 objects are not tested. Please consider using SQLAlchemy.\n",
      "  return pd.read_sql_query(query, connection)\n",
      "C:\\Users\\RushenSamodya\\AppData\\Local\\Temp\\ipykernel_26208\\1517991803.py:52: UserWarning: pandas only supports SQLAlchemy connectable (engine/connection) or database string URI or sqlite3 DBAPI2 connection. Other DBAPI2 objects are not tested. Please consider using SQLAlchemy.\n",
      "  return pd.read_sql_query(query, connection)\n"
     ]
    },
    {
     "name": "stdout",
     "output_type": "stream",
     "text": [
      "Saved: labeled_data/rainfall_data\\mahaweli_ganga\\manampitiya(hmis)_rainfall_data.csv\n"
     ]
    },
    {
     "name": "stderr",
     "output_type": "stream",
     "text": [
      "C:\\Users\\RushenSamodya\\AppData\\Local\\Temp\\ipykernel_26208\\1517991803.py:43: UserWarning: pandas only supports SQLAlchemy connectable (engine/connection) or database string URI or sqlite3 DBAPI2 connection. Other DBAPI2 objects are not tested. Please consider using SQLAlchemy.\n",
      "  return pd.read_sql_query(query, connection)\n",
      "C:\\Users\\RushenSamodya\\AppData\\Local\\Temp\\ipykernel_26208\\1517991803.py:52: UserWarning: pandas only supports SQLAlchemy connectable (engine/connection) or database string URI or sqlite3 DBAPI2 connection. Other DBAPI2 objects are not tested. Please consider using SQLAlchemy.\n",
      "  return pd.read_sql_query(query, connection)\n"
     ]
    },
    {
     "name": "stdout",
     "output_type": "stream",
     "text": [
      "Saved: labeled_data/rainfall_data\\mahaweli_ganga\\weraganthota_rainfall_data.csv\n"
     ]
    },
    {
     "name": "stderr",
     "output_type": "stream",
     "text": [
      "C:\\Users\\RushenSamodya\\AppData\\Local\\Temp\\ipykernel_26208\\1517991803.py:43: UserWarning: pandas only supports SQLAlchemy connectable (engine/connection) or database string URI or sqlite3 DBAPI2 connection. Other DBAPI2 objects are not tested. Please consider using SQLAlchemy.\n",
      "  return pd.read_sql_query(query, connection)\n",
      "C:\\Users\\RushenSamodya\\AppData\\Local\\Temp\\ipykernel_26208\\1517991803.py:52: UserWarning: pandas only supports SQLAlchemy connectable (engine/connection) or database string URI or sqlite3 DBAPI2 connection. Other DBAPI2 objects are not tested. Please consider using SQLAlchemy.\n",
      "  return pd.read_sql_query(query, connection)\n"
     ]
    },
    {
     "name": "stdout",
     "output_type": "stream",
     "text": [
      "Saved: labeled_data/rainfall_data\\mahaweli_ganga\\peradeniya_rainfall_data.csv\n"
     ]
    },
    {
     "name": "stderr",
     "output_type": "stream",
     "text": [
      "C:\\Users\\RushenSamodya\\AppData\\Local\\Temp\\ipykernel_26208\\1517991803.py:43: UserWarning: pandas only supports SQLAlchemy connectable (engine/connection) or database string URI or sqlite3 DBAPI2 connection. Other DBAPI2 objects are not tested. Please consider using SQLAlchemy.\n",
      "  return pd.read_sql_query(query, connection)\n",
      "C:\\Users\\RushenSamodya\\AppData\\Local\\Temp\\ipykernel_26208\\1517991803.py:52: UserWarning: pandas only supports SQLAlchemy connectable (engine/connection) or database string URI or sqlite3 DBAPI2 connection. Other DBAPI2 objects are not tested. Please consider using SQLAlchemy.\n",
      "  return pd.read_sql_query(query, connection)\n"
     ]
    },
    {
     "name": "stdout",
     "output_type": "stream",
     "text": [
      "Saved: labeled_data/rainfall_data\\mahaweli_ganga\\nawalapitiya_rainfall_data.csv\n"
     ]
    },
    {
     "name": "stderr",
     "output_type": "stream",
     "text": [
      "C:\\Users\\RushenSamodya\\AppData\\Local\\Temp\\ipykernel_26208\\1517991803.py:43: UserWarning: pandas only supports SQLAlchemy connectable (engine/connection) or database string URI or sqlite3 DBAPI2 connection. Other DBAPI2 objects are not tested. Please consider using SQLAlchemy.\n",
      "  return pd.read_sql_query(query, connection)\n",
      "C:\\Users\\RushenSamodya\\AppData\\Local\\Temp\\ipykernel_26208\\1517991803.py:52: UserWarning: pandas only supports SQLAlchemy connectable (engine/connection) or database string URI or sqlite3 DBAPI2 connection. Other DBAPI2 objects are not tested. Please consider using SQLAlchemy.\n",
      "  return pd.read_sql_query(query, connection)\n"
     ]
    },
    {
     "name": "stdout",
     "output_type": "stream",
     "text": [
      "Saved: labeled_data/rainfall_data\\mahaweli_ganga\\manampitiya(old)_rainfall_data.csv\n"
     ]
    },
    {
     "name": "stderr",
     "output_type": "stream",
     "text": [
      "C:\\Users\\RushenSamodya\\AppData\\Local\\Temp\\ipykernel_26208\\1517991803.py:43: UserWarning: pandas only supports SQLAlchemy connectable (engine/connection) or database string URI or sqlite3 DBAPI2 connection. Other DBAPI2 objects are not tested. Please consider using SQLAlchemy.\n",
      "  return pd.read_sql_query(query, connection)\n"
     ]
    },
    {
     "name": "stdout",
     "output_type": "stream",
     "text": [
      "No rainfall data for station 41 (manampitiya(old_hmis))\n"
     ]
    },
    {
     "name": "stderr",
     "output_type": "stream",
     "text": [
      "C:\\Users\\RushenSamodya\\AppData\\Local\\Temp\\ipykernel_26208\\1517991803.py:43: UserWarning: pandas only supports SQLAlchemy connectable (engine/connection) or database string URI or sqlite3 DBAPI2 connection. Other DBAPI2 objects are not tested. Please consider using SQLAlchemy.\n",
      "  return pd.read_sql_query(query, connection)\n",
      "C:\\Users\\RushenSamodya\\AppData\\Local\\Temp\\ipykernel_26208\\1517991803.py:52: UserWarning: pandas only supports SQLAlchemy connectable (engine/connection) or database string URI or sqlite3 DBAPI2 connection. Other DBAPI2 objects are not tested. Please consider using SQLAlchemy.\n",
      "  return pd.read_sql_query(query, connection)\n"
     ]
    },
    {
     "name": "stdout",
     "output_type": "stream",
     "text": [
      "Saved: labeled_data/rainfall_data\\malwathu_oya\\thanthirimale_rainfall_data.csv\n"
     ]
    },
    {
     "name": "stderr",
     "output_type": "stream",
     "text": [
      "C:\\Users\\RushenSamodya\\AppData\\Local\\Temp\\ipykernel_26208\\1517991803.py:43: UserWarning: pandas only supports SQLAlchemy connectable (engine/connection) or database string URI or sqlite3 DBAPI2 connection. Other DBAPI2 objects are not tested. Please consider using SQLAlchemy.\n",
      "  return pd.read_sql_query(query, connection)\n",
      "C:\\Users\\RushenSamodya\\AppData\\Local\\Temp\\ipykernel_26208\\1517991803.py:52: UserWarning: pandas only supports SQLAlchemy connectable (engine/connection) or database string URI or sqlite3 DBAPI2 connection. Other DBAPI2 objects are not tested. Please consider using SQLAlchemy.\n",
      "  return pd.read_sql_query(query, connection)\n"
     ]
    },
    {
     "name": "stdout",
     "output_type": "stream",
     "text": [
      "Saved: labeled_data/rainfall_data\\mee_oya\\galgamuwa_rainfall_data.csv\n"
     ]
    },
    {
     "name": "stderr",
     "output_type": "stream",
     "text": [
      "C:\\Users\\RushenSamodya\\AppData\\Local\\Temp\\ipykernel_26208\\1517991803.py:43: UserWarning: pandas only supports SQLAlchemy connectable (engine/connection) or database string URI or sqlite3 DBAPI2 connection. Other DBAPI2 objects are not tested. Please consider using SQLAlchemy.\n",
      "  return pd.read_sql_query(query, connection)\n",
      "C:\\Users\\RushenSamodya\\AppData\\Local\\Temp\\ipykernel_26208\\1517991803.py:52: UserWarning: pandas only supports SQLAlchemy connectable (engine/connection) or database string URI or sqlite3 DBAPI2 connection. Other DBAPI2 objects are not tested. Please consider using SQLAlchemy.\n",
      "  return pd.read_sql_query(query, connection)\n"
     ]
    },
    {
     "name": "stdout",
     "output_type": "stream",
     "text": [
      "Saved: labeled_data/rainfall_data\\menik_ganga\\katharagama_rainfall_data.csv\n"
     ]
    },
    {
     "name": "stderr",
     "output_type": "stream",
     "text": [
      "C:\\Users\\RushenSamodya\\AppData\\Local\\Temp\\ipykernel_26208\\1517991803.py:43: UserWarning: pandas only supports SQLAlchemy connectable (engine/connection) or database string URI or sqlite3 DBAPI2 connection. Other DBAPI2 objects are not tested. Please consider using SQLAlchemy.\n",
      "  return pd.read_sql_query(query, connection)\n",
      "C:\\Users\\RushenSamodya\\AppData\\Local\\Temp\\ipykernel_26208\\1517991803.py:52: UserWarning: pandas only supports SQLAlchemy connectable (engine/connection) or database string URI or sqlite3 DBAPI2 connection. Other DBAPI2 objects are not tested. Please consider using SQLAlchemy.\n",
      "  return pd.read_sql_query(query, connection)\n"
     ]
    },
    {
     "name": "stdout",
     "output_type": "stream",
     "text": [
      "Saved: labeled_data/rainfall_data\\mukunu_oya\\yakawewa_rainfall_data.csv\n"
     ]
    },
    {
     "name": "stderr",
     "output_type": "stream",
     "text": [
      "C:\\Users\\RushenSamodya\\AppData\\Local\\Temp\\ipykernel_26208\\1517991803.py:43: UserWarning: pandas only supports SQLAlchemy connectable (engine/connection) or database string URI or sqlite3 DBAPI2 connection. Other DBAPI2 objects are not tested. Please consider using SQLAlchemy.\n",
      "  return pd.read_sql_query(query, connection)\n",
      "C:\\Users\\RushenSamodya\\AppData\\Local\\Temp\\ipykernel_26208\\1517991803.py:52: UserWarning: pandas only supports SQLAlchemy connectable (engine/connection) or database string URI or sqlite3 DBAPI2 connection. Other DBAPI2 objects are not tested. Please consider using SQLAlchemy.\n",
      "  return pd.read_sql_query(query, connection)\n"
     ]
    },
    {
     "name": "stdout",
     "output_type": "stream",
     "text": [
      "Saved: labeled_data/rainfall_data\\nilwala_ganga\\thalgahagoda_rainfall_data.csv\n"
     ]
    },
    {
     "name": "stderr",
     "output_type": "stream",
     "text": [
      "C:\\Users\\RushenSamodya\\AppData\\Local\\Temp\\ipykernel_26208\\1517991803.py:43: UserWarning: pandas only supports SQLAlchemy connectable (engine/connection) or database string URI or sqlite3 DBAPI2 connection. Other DBAPI2 objects are not tested. Please consider using SQLAlchemy.\n",
      "  return pd.read_sql_query(query, connection)\n",
      "C:\\Users\\RushenSamodya\\AppData\\Local\\Temp\\ipykernel_26208\\1517991803.py:52: UserWarning: pandas only supports SQLAlchemy connectable (engine/connection) or database string URI or sqlite3 DBAPI2 connection. Other DBAPI2 objects are not tested. Please consider using SQLAlchemy.\n",
      "  return pd.read_sql_query(query, connection)\n"
     ]
    },
    {
     "name": "stdout",
     "output_type": "stream",
     "text": [
      "Saved: labeled_data/rainfall_data\\nilwala_ganga\\panadugama_rainfall_data.csv\n"
     ]
    },
    {
     "name": "stderr",
     "output_type": "stream",
     "text": [
      "C:\\Users\\RushenSamodya\\AppData\\Local\\Temp\\ipykernel_26208\\1517991803.py:43: UserWarning: pandas only supports SQLAlchemy connectable (engine/connection) or database string URI or sqlite3 DBAPI2 connection. Other DBAPI2 objects are not tested. Please consider using SQLAlchemy.\n",
      "  return pd.read_sql_query(query, connection)\n",
      "C:\\Users\\RushenSamodya\\AppData\\Local\\Temp\\ipykernel_26208\\1517991803.py:52: UserWarning: pandas only supports SQLAlchemy connectable (engine/connection) or database string URI or sqlite3 DBAPI2 connection. Other DBAPI2 objects are not tested. Please consider using SQLAlchemy.\n",
      "  return pd.read_sql_query(query, connection)\n"
     ]
    },
    {
     "name": "stdout",
     "output_type": "stream",
     "text": [
      "Saved: labeled_data/rainfall_data\\nilwala_ganga\\pitabeddara_rainfall_data.csv\n"
     ]
    },
    {
     "name": "stderr",
     "output_type": "stream",
     "text": [
      "C:\\Users\\RushenSamodya\\AppData\\Local\\Temp\\ipykernel_26208\\1517991803.py:43: UserWarning: pandas only supports SQLAlchemy connectable (engine/connection) or database string URI or sqlite3 DBAPI2 connection. Other DBAPI2 objects are not tested. Please consider using SQLAlchemy.\n",
      "  return pd.read_sql_query(query, connection)\n",
      "C:\\Users\\RushenSamodya\\AppData\\Local\\Temp\\ipykernel_26208\\1517991803.py:52: UserWarning: pandas only supports SQLAlchemy connectable (engine/connection) or database string URI or sqlite3 DBAPI2 connection. Other DBAPI2 objects are not tested. Please consider using SQLAlchemy.\n",
      "  return pd.read_sql_query(query, connection)\n"
     ]
    },
    {
     "name": "stdout",
     "output_type": "stream",
     "text": [
      "Saved: labeled_data/rainfall_data\\seethawaka_ganga\\deraniyagala_rainfall_data.csv\n"
     ]
    },
    {
     "name": "stderr",
     "output_type": "stream",
     "text": [
      "C:\\Users\\RushenSamodya\\AppData\\Local\\Temp\\ipykernel_26208\\1517991803.py:43: UserWarning: pandas only supports SQLAlchemy connectable (engine/connection) or database string URI or sqlite3 DBAPI2 connection. Other DBAPI2 objects are not tested. Please consider using SQLAlchemy.\n",
      "  return pd.read_sql_query(query, connection)\n",
      "C:\\Users\\RushenSamodya\\AppData\\Local\\Temp\\ipykernel_26208\\1517991803.py:52: UserWarning: pandas only supports SQLAlchemy connectable (engine/connection) or database string URI or sqlite3 DBAPI2 connection. Other DBAPI2 objects are not tested. Please consider using SQLAlchemy.\n",
      "  return pd.read_sql_query(query, connection)\n"
     ]
    },
    {
     "name": "stdout",
     "output_type": "stream",
     "text": [
      "Saved: labeled_data/rainfall_data\\urubokka_ganga\\urawa_rainfall_data.csv\n"
     ]
    },
    {
     "name": "stderr",
     "output_type": "stream",
     "text": [
      "C:\\Users\\RushenSamodya\\AppData\\Local\\Temp\\ipykernel_26208\\1517991803.py:43: UserWarning: pandas only supports SQLAlchemy connectable (engine/connection) or database string URI or sqlite3 DBAPI2 connection. Other DBAPI2 objects are not tested. Please consider using SQLAlchemy.\n",
      "  return pd.read_sql_query(query, connection)\n",
      "C:\\Users\\RushenSamodya\\AppData\\Local\\Temp\\ipykernel_26208\\1517991803.py:52: UserWarning: pandas only supports SQLAlchemy connectable (engine/connection) or database string URI or sqlite3 DBAPI2 connection. Other DBAPI2 objects are not tested. Please consider using SQLAlchemy.\n",
      "  return pd.read_sql_query(query, connection)\n"
     ]
    },
    {
     "name": "stdout",
     "output_type": "stream",
     "text": [
      "Saved: labeled_data/rainfall_data\\walawe_ganga\\moraketiya_rainfall_data.csv\n"
     ]
    },
    {
     "name": "stderr",
     "output_type": "stream",
     "text": [
      "C:\\Users\\RushenSamodya\\AppData\\Local\\Temp\\ipykernel_26208\\1517991803.py:43: UserWarning: pandas only supports SQLAlchemy connectable (engine/connection) or database string URI or sqlite3 DBAPI2 connection. Other DBAPI2 objects are not tested. Please consider using SQLAlchemy.\n",
      "  return pd.read_sql_query(query, connection)\n",
      "C:\\Users\\RushenSamodya\\AppData\\Local\\Temp\\ipykernel_26208\\1517991803.py:52: UserWarning: pandas only supports SQLAlchemy connectable (engine/connection) or database string URI or sqlite3 DBAPI2 connection. Other DBAPI2 objects are not tested. Please consider using SQLAlchemy.\n",
      "  return pd.read_sql_query(query, connection)\n"
     ]
    },
    {
     "name": "stdout",
     "output_type": "stream",
     "text": [
      "Saved: labeled_data/rainfall_data\\yan_oya\\horowpothana_rainfall_data.csv\n",
      "All rainfall datasets generated successfully!\n"
     ]
    }
   ],
   "source": [
    "import psycopg2\n",
    "from dotenv import load_dotenv\n",
    "import os\n",
    "import pandas as pd\n",
    "from datetime import datetime, timedelta\n",
    "\n",
    "# Load environment variables\n",
    "load_dotenv()\n",
    "\n",
    "def connect_to_supabase():\n",
    "    try:\n",
    "        connection = psycopg2.connect(\n",
    "            user=os.getenv(\"user\"),\n",
    "            password=os.getenv(\"password\"),\n",
    "            host=os.getenv(\"host\"),\n",
    "            port=os.getenv(\"port\"),\n",
    "            dbname=os.getenv(\"dbname\"),\n",
    "            sslmode='require',\n",
    "            gssencmode='disable',\n",
    "        )\n",
    "        print(\"Connected to Supabase.\")\n",
    "        return connection\n",
    "    except Exception as e:\n",
    "        print(\"Connection failed:\", e)\n",
    "        return None\n",
    "\n",
    "def get_all_stations(connection):\n",
    "    query = \"\"\"\n",
    "        SELECT g.station_id, g.station_name, t.tributary_or_river_name, \n",
    "               g.alert_level, g.minor_flood_level, g.major_flood_level\n",
    "        FROM gauging_station g\n",
    "        INNER JOIN tributary_or_river t ON g.tributary_or_river_id = t.tributary_or_river_id\n",
    "    \"\"\"\n",
    "    return pd.read_sql_query(query, connection)\n",
    "\n",
    "def fetch_rainfall_data(connection, station_id):\n",
    "    query = f\"\"\"\n",
    "        SELECT end_time, duration_hours, rainfall_in_mm\n",
    "        FROM rainfall_measurement\n",
    "        WHERE station_id = {station_id}\n",
    "        ORDER BY end_time\n",
    "    \"\"\"\n",
    "    return pd.read_sql_query(query, connection)\n",
    "\n",
    "def fetch_water_level_data(connection, station_id):\n",
    "    query = f\"\"\"\n",
    "        SELECT recorded_at, water_level\n",
    "        FROM water_level_measurement\n",
    "        WHERE station_id = {station_id}\n",
    "        ORDER BY recorded_at\n",
    "    \"\"\"\n",
    "    return pd.read_sql_query(query, connection)\n",
    "\n",
    "def label_flood_status(water_level, alert, minor, major):\n",
    "    if pd.isna(water_level):\n",
    "        return \"Unknown\"\n",
    "    elif water_level >= major:\n",
    "        return \"Major Flood\"\n",
    "    elif water_level >= minor:\n",
    "        return \"Minor Flood\"\n",
    "    elif water_level >= alert:\n",
    "        return \"Alert Level\"\n",
    "    else:\n",
    "        return \"No Flood\"\n",
    "\n",
    "def find_closest_water_level(row, water_level_df):\n",
    "    \"\"\"Find the water level reading closest to the rainfall end time (within 24 hours)\"\"\"\n",
    "    timestamp = row['end_time']\n",
    "    start_time = timestamp - timedelta(hours=24)\n",
    "    end_time = timestamp + timedelta(hours=24)\n",
    "    \n",
    "    # Filter water level data within 24 hours of the rainfall timestamp\n",
    "    nearby_readings = water_level_df[\n",
    "        (water_level_df['recorded_at'] >= start_time) & \n",
    "        (water_level_df['recorded_at'] <= end_time)\n",
    "    ]\n",
    "    \n",
    "    if nearby_readings.empty:\n",
    "        return None\n",
    "    \n",
    "    # Find the closest reading by time difference\n",
    "    nearby_readings['time_diff'] = (nearby_readings['recorded_at'] - timestamp).abs()\n",
    "    closest_reading = nearby_readings.loc[nearby_readings['time_diff'].idxmin()]\n",
    "    \n",
    "    return closest_reading['water_level']\n",
    "\n",
    "def generate_labeled_rainfall_dataset(connection, stations_df):\n",
    "    base_dir = \"labeled_data/rainfall_data\"\n",
    "    os.makedirs(base_dir, exist_ok=True)\n",
    "\n",
    "    # Group stations by river name\n",
    "    stations_df['river_dir_name'] = stations_df['tributary_or_river_name'].apply(lambda x: x.replace(\" \", \"_\"))\n",
    "    river_groups = stations_df.groupby('river_dir_name')\n",
    "    \n",
    "    for river_name, river_stations in river_groups:\n",
    "        # Create river directory\n",
    "        river_dir = os.path.join(base_dir, river_name)\n",
    "        os.makedirs(river_dir, exist_ok=True)\n",
    "        \n",
    "        for _, row in river_stations.iterrows():\n",
    "            station_id = row[\"station_id\"]\n",
    "            station_name = row[\"station_name\"].replace(\" \", \"_\")\n",
    "            alert = row[\"alert_level\"]\n",
    "            minor = row[\"minor_flood_level\"]\n",
    "            major = row[\"major_flood_level\"]\n",
    "\n",
    "            # Fetch rainfall data\n",
    "            rainfall_df = fetch_rainfall_data(connection, station_id)\n",
    "            if rainfall_df.empty:\n",
    "                print(f\"No rainfall data for station {station_id} ({station_name})\")\n",
    "                continue\n",
    "                \n",
    "            # Fetch water level data for the same station to determine flood status\n",
    "            water_level_df = fetch_water_level_data(connection, station_id)\n",
    "            if water_level_df.empty:\n",
    "                print(f\"No water level data for station {station_id} ({station_name})\")\n",
    "                continue\n",
    "\n",
    "            # Convert timestamps to datetime objects if they aren't already\n",
    "            if not isinstance(rainfall_df['end_time'].iloc[0], datetime):\n",
    "                rainfall_df['end_time'] = pd.to_datetime(rainfall_df['end_time'])\n",
    "            if not isinstance(water_level_df['recorded_at'].iloc[0], datetime):\n",
    "                water_level_df['recorded_at'] = pd.to_datetime(water_level_df['recorded_at'])\n",
    "\n",
    "            # For each rainfall record, find the closest water level measurement\n",
    "            rainfall_df['closest_water_level'] = rainfall_df.apply(\n",
    "                lambda row: find_closest_water_level(row, water_level_df), axis=1\n",
    "            )\n",
    "\n",
    "            # Label the data based on the closest water level\n",
    "            rainfall_df['flood_status'] = rainfall_df['closest_water_level'].apply(\n",
    "                lambda x: label_flood_status(x, alert, minor, major)\n",
    "            )\n",
    "\n",
    "            # Add station information to the dataset\n",
    "            rainfall_df['station_id'] = station_id\n",
    "            rainfall_df['station_name'] = row[\"station_name\"]\n",
    "\n",
    "            # Drop the intermediate column\n",
    "            rainfall_df = rainfall_df.drop(columns=['closest_water_level'])\n",
    "\n",
    "            # Save the dataset\n",
    "            csv_path = os.path.join(river_dir, f\"{station_name}_rainfall_data.csv\")\n",
    "            rainfall_df.to_csv(csv_path, index=False)\n",
    "            print(f\"Saved: {csv_path}\")\n",
    "\n",
    "# Main flow\n",
    "if __name__ == \"__main__\":\n",
    "    connection = connect_to_supabase()\n",
    "    if connection:\n",
    "        try:\n",
    "            stations_df = get_all_stations(connection)\n",
    "            generate_labeled_rainfall_dataset(connection, stations_df)\n",
    "            print(\"All rainfall datasets generated successfully!\")\n",
    "        finally:\n",
    "            connection.close()"
   ]
  }
 ],
 "metadata": {
  "kernelspec": {
   "display_name": "Python 3",
   "language": "python",
   "name": "python3"
  },
  "language_info": {
   "codemirror_mode": {
    "name": "ipython",
    "version": 3
   },
   "file_extension": ".py",
   "mimetype": "text/x-python",
   "name": "python",
   "nbconvert_exporter": "python",
   "pygments_lexer": "ipython3",
   "version": "3.12.4"
  }
 },
 "nbformat": 4,
 "nbformat_minor": 5
}
